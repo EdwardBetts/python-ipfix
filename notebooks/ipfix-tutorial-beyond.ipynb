{
 "metadata": {
  "name": "",
  "signature": "sha256:5bd214883531ca6bfb7a1cfaa221b28d886227211d93d7f1b2dfbc04257d0e52"
 },
 "nbformat": 3,
 "nbformat_minor": 0,
 "worksheets": [
  {
   "cells": [
    {
     "cell_type": "markdown",
     "metadata": {},
     "source": [
      "Beyond Flow Export\n",
      "------------------\n",
      "\n",
      "So far, we've explored the use of IPFIX for flow export; however, the protocol is useful for any application to which the following applies:\n",
      "\n",
      "- The application's data flow is fundamentally unidirectional. IPFIX is a \"push\" protocol, supporting only the export of information from a sender (an Exporting Process) to a receiver (a Collecting Process).  Request-response interactions are not supported by IPFIX.\n",
      "- The application handles discrete event information, or information to be periodically reported.  IPFIX is particularly well suited to representing events, which can be scoped in time.\n",
      "- The application handles information about network entities. IPFIX's information model is network-oriented, so network management applications have many opportunities for information model reuse.\n",
      "- The application requires a small number of arrangements of data structures relative to the number of records it handles.  The template-driven self-description mechanism used by IPFIX excels at handling large volumes of identically structured data, compared to representations which define structure inline with data (such as XML).\n",
      "\n",
      "To take an example, let's use IPFIX to solve a common problem during IETF meetings: meeting room temperature. Let's say we have a table of observation point identifiers to meeting room names, and use IPFIX to periodically export ambient temperature information for a given machine. In an ideal world, we'd write a proper description for the Information Element and send it to IANA, as follows:\n",
      "\n",
      "- Name: ambientTemperatureCelsius\n",
      "- Description: The ambient temperature measured in the environment. May be associated with an Observation Point or a Metering Process; otherwise, taken to be the ambient temperature in the environment of the Exporting Process.\n",
      "- Abstract Data Type: float32\n",
      "- Units: degrees Celsius\n",
      "- Range: -273.15 - +infinity\n",
      "\n",
      "But this is just a two hour tutorial, so we'll use an enterprise-specific Information Element instead:"
     ]
    },
    {
     "cell_type": "code",
     "collapsed": false,
     "input": [
      "import ipfix\n",
      "import ipfix.vis\n",
      "\n",
      "from datetime import datetime\n",
      "from IPython.display import SVG\n",
      "\n",
      "def draw_message(msg, length=256):\n",
      "    return SVG(ipfix.vis.MessageBufferRenderer(msg, raster=4).render(length=length))\n",
      "\n",
      "ipfix.ie.use_iana_default()\n",
      "ipfix.ie.use_5103_default()\n",
      "ipfix.ie.for_spec(\"ambientTemperatureCelsius(35566/2)<float32>[4]\")"
     ],
     "language": "python",
     "metadata": {},
     "outputs": [
      {
       "metadata": {},
       "output_type": "pyout",
       "prompt_number": 1,
       "text": [
        "InformationElement('ambientTemperatureCelsius', 35566, 2, ipfix.types.for_name('float32'), 4)"
       ]
      }
     ],
     "prompt_number": 1
    },
    {
     "cell_type": "markdown",
     "metadata": {},
     "source": [
      "And now a template and a message:"
     ]
    },
    {
     "cell_type": "code",
     "collapsed": false,
     "input": [
      "ttmpl = ipfix.template.for_specs(263, \"observationTimeMilliseconds\", \n",
      "                                      \"observationPointId[4]\",\n",
      "                                      \"ambientTemperatureCelsius\")\n",
      "msg = ipfix.message.MessageBuffer()\n",
      "msg.begin_export(8304)\n",
      "msg.add_template(ttmpl)\n",
      "msg.export_new_set(263)\n",
      "msg.export_namedict({'observationTimeMilliseconds': datetime.utcnow(),\n",
      "                     'observationPointId':          1,\n",
      "                     'ambientTemperatureCelsius':   22.3})\n",
      "draw_message(msg)"
     ],
     "language": "python",
     "metadata": {},
     "outputs": [
      {
       "metadata": {},
       "output_type": "pyout",
       "prompt_number": 2,
       "svg": [
        "<svg baseProfile=\"full\" height=\"480\" version=\"1.1\" width=\"450\" xmlns=\"http://www.w3.org/2000/svg\" xmlns:ev=\"http://www.w3.org/2001/xml-events\" xmlns:xlink=\"http://www.w3.org/1999/xlink\"><defs><g font-size=\"17\" id=\"pl1gm543ye9kupuf\"><text style=\"text-anchor: right; dominant-baseline: hanging;\" x=\"72.0\" y=\"0\">0</text><text style=\"text-anchor: right; dominant-baseline: hanging;\" x=\"162.0\" y=\"0\">1</text><text style=\"text-anchor: right; dominant-baseline: hanging;\" x=\"252.0\" y=\"0\">2</text><text style=\"text-anchor: right; dominant-baseline: hanging;\" x=\"342.0\" y=\"0\">3</text></g><g font-size=\"17\" id=\"dumszy09e4to0xcw\"><text style=\"text-anchor: left; dominant-baseline: hanging;\" x=\"0\" y=\"0\">0x0</text><text style=\"text-anchor: left; dominant-baseline: hanging;\" x=\"0\" y=\"30\">0x4</text><text style=\"text-anchor: left; dominant-baseline: hanging;\" x=\"0\" y=\"60\">0x8</text><text style=\"text-anchor: left; dominant-baseline: hanging;\" x=\"0\" y=\"90\">0xc</text><text style=\"text-anchor: left; dominant-baseline: hanging;\" x=\"0\" y=\"120\">0x10</text><text style=\"text-anchor: left; dominant-baseline: hanging;\" x=\"0\" y=\"150\">0x14</text><text style=\"text-anchor: left; dominant-baseline: hanging;\" x=\"0\" y=\"180\">0x18</text><text style=\"text-anchor: left; dominant-baseline: hanging;\" x=\"0\" y=\"210\">0x1c</text><text style=\"text-anchor: left; dominant-baseline: hanging;\" x=\"0\" y=\"240\">0x20</text><text style=\"text-anchor: left; dominant-baseline: hanging;\" x=\"0\" y=\"270\">0x24</text><text style=\"text-anchor: left; dominant-baseline: hanging;\" x=\"0\" y=\"300\">0x28</text><text style=\"text-anchor: left; dominant-baseline: hanging;\" x=\"0\" y=\"330\">0x2c</text><text style=\"text-anchor: left; dominant-baseline: hanging;\" x=\"0\" y=\"360\">0x30</text><text style=\"text-anchor: left; dominant-baseline: hanging;\" x=\"0\" y=\"390\">0x34</text><text style=\"text-anchor: left; dominant-baseline: hanging;\" x=\"0\" y=\"420\">0x38</text></g><g id=\"boxes-m52upiw223a5zmwa\" stroke=\"black\" stroke-width=\"2\"><rect fill=\"rgb(255,216,216)\" height=\"30\" width=\"180\" x=\"0\" y=\"0\"/><rect fill=\"rgb(255,216,216)\" height=\"30\" width=\"180\" x=\"180\" y=\"0\"/><rect fill=\"rgb(255,216,216)\" height=\"30\" width=\"360\" x=\"0\" y=\"30\"/><rect fill=\"rgb(255,216,216)\" height=\"30\" width=\"360\" x=\"0\" y=\"60\"/><rect fill=\"rgb(255,216,216)\" height=\"30\" width=\"360\" x=\"0\" y=\"90\"/><rect fill=\"rgb(240,192,216)\" height=\"30\" width=\"180\" x=\"0\" y=\"120\"/><rect fill=\"rgb(240,192,216)\" height=\"30\" width=\"180\" x=\"180\" y=\"120\"/><rect fill=\"rgb(224,224,255)\" height=\"30\" width=\"180\" x=\"0\" y=\"150\"/><rect fill=\"rgb(224,224,255)\" height=\"30\" width=\"180\" x=\"180\" y=\"150\"/><rect fill=\"rgb(224,224,255)\" height=\"30\" width=\"180\" x=\"0\" y=\"180\"/><rect fill=\"rgb(224,224,255)\" height=\"30\" width=\"180\" x=\"180\" y=\"180\"/><rect fill=\"rgb(224,224,255)\" height=\"30\" width=\"180\" x=\"0\" y=\"210\"/><rect fill=\"rgb(224,224,255)\" height=\"30\" width=\"180\" x=\"180\" y=\"210\"/><rect fill=\"rgb(224,224,255)\" height=\"30\" width=\"180\" x=\"0\" y=\"240\"/><rect fill=\"rgb(224,224,255)\" height=\"30\" width=\"180\" x=\"180\" y=\"240\"/><rect fill=\"rgb(224,224,255)\" height=\"30\" width=\"360\" x=\"0\" y=\"270\"/><rect fill=\"rgb(240,192,216)\" height=\"30\" width=\"180\" x=\"0\" y=\"300\"/><rect fill=\"rgb(240,192,216)\" height=\"30\" width=\"180\" x=\"180\" y=\"300\"/><rect fill=\"rgb(255,255,216)\" height=\"60.0\" width=\"360\" x=\"0\" y=\"330\"/><rect fill=\"rgb(255,255,216)\" height=\"30\" width=\"360\" x=\"0\" y=\"390\"/><rect fill=\"rgb(255,255,216)\" height=\"30\" width=\"360\" x=\"0\" y=\"420\"/></g><g font-size=\"15\" id=\"text-m52upiw223a5zmwa\"><text style=\"text-anchor: middle; dominant-baseline: hanging;\" x=\"90.0\" y=\"15.0\">Version: 10</text><text style=\"text-anchor: middle; dominant-baseline: hanging;\" x=\"270.0\" y=\"15.0\">Length: 60</text><text style=\"text-anchor: middle; dominant-baseline: hanging;\" x=\"180.0\" y=\"45.0\">Sequence: 0</text><text style=\"text-anchor: middle; dominant-baseline: hanging;\" x=\"180.0\" y=\"75.0\">Export Time: 2014-05-12 08:46:24.000000 </text><text style=\"text-anchor: middle; dominant-baseline: hanging;\" x=\"180.0\" y=\"105.0\">Observation Domain: 8304</text><text style=\"text-anchor: middle; dominant-baseline: hanging;\" x=\"90.0\" y=\"135.0\">Set ID: 2</text><text style=\"text-anchor: middle; dominant-baseline: hanging;\" x=\"270.0\" y=\"135.0\">Set Length: 24</text><text style=\"text-anchor: middle; dominant-baseline: hanging;\" x=\"90.0\" y=\"165.0\">ID: 263</text><text style=\"text-anchor: middle; dominant-baseline: hanging;\" x=\"270.0\" y=\"165.0\">Count: 3</text><text style=\"text-anchor: middle; dominant-baseline: hanging;\" x=\"90.0\" y=\"195.0\">IE: observ...onds(323)</text><text style=\"text-anchor: middle; dominant-baseline: hanging;\" x=\"270.0\" y=\"195.0\">Len: 8</text><text style=\"text-anchor: middle; dominant-baseline: hanging;\" x=\"90.0\" y=\"225.0\">IE: observ...ntId(138)</text><text style=\"text-anchor: middle; dominant-baseline: hanging;\" x=\"270.0\" y=\"225.0\">Len: 4</text><text style=\"text-anchor: middle; dominant-baseline: hanging;\" x=\"90.0\" y=\"255.0\">IE: ambien...sius(32770)</text><text style=\"text-anchor: middle; dominant-baseline: hanging;\" x=\"270.0\" y=\"255.0\">Len: 4</text><text style=\"text-anchor: middle; dominant-baseline: hanging;\" x=\"180.0\" y=\"285.0\">PEN: 35566</text><text style=\"text-anchor: middle; dominant-baseline: hanging;\" x=\"90.0\" y=\"315.0\">Set ID: 263</text><text style=\"text-anchor: middle; dominant-baseline: hanging;\" x=\"270.0\" y=\"315.0\">Set Length: 20</text><text style=\"text-anchor: middle; dominant-baseline: hanging;\" x=\"180.0\" y=\"360.0\">observat...iseconds: 2014-05-12 08:46:24.895999 </text><text style=\"text-anchor: middle; dominant-baseline: hanging;\" x=\"180.0\" y=\"405.0\">observationPointId: 1</text><text style=\"text-anchor: middle; dominant-baseline: hanging;\" x=\"180.0\" y=\"435.0\">ambientT...eCelsius: 22.299999237060547</text></g></defs><use x=\"90\" xlink:href=\"#pl1gm543ye9kupuf\" y=\"0\"/><use x=\"0\" xlink:href=\"#dumszy09e4to0xcw\" y=\"15.0\"/><use x=\"90\" xlink:href=\"#boxes-m52upiw223a5zmwa\" y=\"15.0\"/><use x=\"90\" xlink:href=\"#text-m52upiw223a5zmwa\" y=\"15.0\"/></svg>"
       ],
       "text": [
        "<IPython.core.display.SVG at 0x10c9a50b8>"
       ]
      }
     ],
     "prompt_number": 2
    },
    {
     "cell_type": "markdown",
     "metadata": {},
     "source": [
      "Of course, physical measurements are more interesting if they're real. We've attached a cheap temperature-and-humidity sensor to a Raspberry Pi connected to the display laptop to demonstrate two things:\n",
      "\n",
      "1. IPFIX can be applied to any push-based event data export task, and\n",
      "2. the protocol itself is lightweight enough to implement anywhere you realistically have a TCP/IP stack.\n",
      "\n",
      "Here, we took an off-the-shelf user-space driver for the sensor attached to the GPIO pins, and added some C code to encode the result as IPFIX, attaching a static template and message header. This program doesn't even handle network communication; for that, we pipe its binary IPFIX output to nc, which acts as a TCP exporting process given an IPFIX message stream.\n",
      "\n",
      "This sensor handles relative humidity as well as temperature, so we'll need an IE for that, too:"
     ]
    },
    {
     "cell_type": "code",
     "collapsed": false,
     "input": [
      "ipfix.ie.for_spec(\"relativeHumidityPercent(35566/3)<float32>[4]\")"
     ],
     "language": "python",
     "metadata": {},
     "outputs": [
      {
       "metadata": {},
       "output_type": "pyout",
       "prompt_number": 3,
       "text": [
        "InformationElement('relativeHumidityPercent', 35566, 3, ipfix.types.for_name('float32'), 4)"
       ]
      }
     ],
     "prompt_number": 3
    },
    {
     "cell_type": "markdown",
     "metadata": {},
     "source": [
      "As before, we'll visualize each message using the ipfix.vis package:"
     ]
    },
    {
     "cell_type": "code",
     "collapsed": false,
     "input": [
      "import socketserver\n",
      "import ipfix.reader\n",
      "\n",
      "msg_count = 5\n",
      "msg_length = 512\n",
      "msg_idx = 0\n",
      "svgbuf = []\n",
      "\n",
      "def draw_next_buffered_message(next_msg_idx = None):\n",
      "    global msg_idx\n",
      "    if next_msg_idx is not None:\n",
      "        msg_idx = next_msg_idx\n",
      "    display(SVG(data=svgbuf[msg_idx]))\n",
      "    msg_idx += 1\n",
      "\n",
      "class StreamRendererHandler(socketserver.StreamRequestHandler):\n",
      "    def handle(self):\n",
      "        global svgbuf\n",
      "        print (\"connection from \"+str(self.client_address))\n",
      "        msr = ipfix.vis.MessageStreamRenderer(self.rfile, scale=(90,30), raster=4)\n",
      "        \n",
      "        for i in range(msg_count):\n",
      "            svgbuf.append(msr.render_next_message(msg_length))\n",
      "\n",
      "srv = None\n",
      "srv = socketserver.TCPServer((\"\", 4739), StreamRendererHandler)\n",
      "srv.handle_request()"
     ],
     "language": "python",
     "metadata": {},
     "outputs": [
      {
       "output_type": "stream",
       "stream": "stdout",
       "text": [
        "connection from ('192.168.2.2', 45479)\n"
       ]
      }
     ],
     "prompt_number": 5
    },
    {
     "cell_type": "code",
     "collapsed": false,
     "input": [
      "draw_next_buffered_message()"
     ],
     "language": "python",
     "metadata": {},
     "outputs": [
      {
       "metadata": {},
       "output_type": "display_data",
       "svg": [
        "<svg baseProfile=\"full\" height=\"300\" version=\"1.1\" width=\"450\" xmlns=\"http://www.w3.org/2000/svg\" xmlns:ev=\"http://www.w3.org/2001/xml-events\" xmlns:xlink=\"http://www.w3.org/1999/xlink\"><defs><g font-size=\"17\" id=\"mcwkwsf4upaz1tbd\"><text style=\"text-anchor: right; dominant-baseline: hanging;\" x=\"72.0\" y=\"0\">0</text><text style=\"text-anchor: right; dominant-baseline: hanging;\" x=\"162.0\" y=\"0\">1</text><text style=\"text-anchor: right; dominant-baseline: hanging;\" x=\"252.0\" y=\"0\">2</text><text style=\"text-anchor: right; dominant-baseline: hanging;\" x=\"342.0\" y=\"0\">3</text></g><g font-size=\"17\" id=\"67g8mu9u4z3vb3j6\"><text style=\"text-anchor: left; dominant-baseline: hanging;\" x=\"0\" y=\"0\">0x0</text><text style=\"text-anchor: left; dominant-baseline: hanging;\" x=\"0\" y=\"30\">0x4</text><text style=\"text-anchor: left; dominant-baseline: hanging;\" x=\"0\" y=\"60\">0x8</text><text style=\"text-anchor: left; dominant-baseline: hanging;\" x=\"0\" y=\"90\">0xc</text><text style=\"text-anchor: left; dominant-baseline: hanging;\" x=\"0\" y=\"120\">0x10</text><text style=\"text-anchor: left; dominant-baseline: hanging;\" x=\"0\" y=\"150\">0x14</text><text style=\"text-anchor: left; dominant-baseline: hanging;\" x=\"0\" y=\"180\">0x18</text><text style=\"text-anchor: left; dominant-baseline: hanging;\" x=\"0\" y=\"210\">0x1c</text><text style=\"text-anchor: left; dominant-baseline: hanging;\" x=\"0\" y=\"240\">0x20</text></g><g id=\"boxes-80ozj44op18xaunc\" stroke=\"black\" stroke-width=\"2\"><rect fill=\"rgb(255,216,216)\" height=\"30\" width=\"180\" x=\"0\" y=\"0\"/><rect fill=\"rgb(255,216,216)\" height=\"30\" width=\"180\" x=\"180\" y=\"0\"/><rect fill=\"rgb(255,216,216)\" height=\"30\" width=\"360\" x=\"0\" y=\"30\"/><rect fill=\"rgb(255,216,216)\" height=\"30\" width=\"360\" x=\"0\" y=\"60\"/><rect fill=\"rgb(255,216,216)\" height=\"30\" width=\"360\" x=\"0\" y=\"90\"/><rect fill=\"rgb(240,192,216)\" height=\"30\" width=\"180\" x=\"0\" y=\"120\"/><rect fill=\"rgb(240,192,216)\" height=\"30\" width=\"180\" x=\"180\" y=\"120\"/><rect fill=\"rgb(255,255,216)\" height=\"30\" width=\"360\" x=\"0\" y=\"150\"/><rect fill=\"rgb(255,255,216)\" height=\"30\" width=\"360\" x=\"0\" y=\"180\"/><rect fill=\"rgb(255,255,216)\" height=\"30\" width=\"360\" x=\"0\" y=\"210\"/><rect fill=\"rgb(255,255,216)\" height=\"30\" width=\"360\" x=\"0\" y=\"240\"/></g><g font-size=\"15\" id=\"text-80ozj44op18xaunc\"><text style=\"text-anchor: middle; dominant-baseline: hanging;\" x=\"90.0\" y=\"15.0\">Version: 10</text><text style=\"text-anchor: middle; dominant-baseline: hanging;\" x=\"270.0\" y=\"15.0\">Length: 36</text><text style=\"text-anchor: middle; dominant-baseline: hanging;\" x=\"180.0\" y=\"45.0\">Sequence: 0</text><text style=\"text-anchor: middle; dominant-baseline: hanging;\" x=\"180.0\" y=\"75.0\">Export Time: 2014-05-12 08:48:07.000000 </text><text style=\"text-anchor: middle; dominant-baseline: hanging;\" x=\"180.0\" y=\"105.0\">Observation Domain: 1</text><text style=\"text-anchor: middle; dominant-baseline: hanging;\" x=\"90.0\" y=\"135.0\">Set ID: 256</text><text style=\"text-anchor: middle; dominant-baseline: hanging;\" x=\"270.0\" y=\"135.0\">Set Length: 20</text><text style=\"text-anchor: middle; dominant-baseline: hanging;\" x=\"180.0\" y=\"165.0\">observat...eSeconds: 2014-05-12 08:48:09.000000 </text><text style=\"text-anchor: middle; dominant-baseline: hanging;\" x=\"180.0\" y=\"195.0\">observationPointId: 1</text><text style=\"text-anchor: middle; dominant-baseline: hanging;\" x=\"180.0\" y=\"225.0\">ambientT...eCelsius: 21.600000381469727</text><text style=\"text-anchor: middle; dominant-baseline: hanging;\" x=\"180.0\" y=\"255.0\">relative...yPercent: 37.20000076293945</text></g></defs><use x=\"90\" xlink:href=\"#mcwkwsf4upaz1tbd\" y=\"0\"/><use x=\"0\" xlink:href=\"#67g8mu9u4z3vb3j6\" y=\"15.0\"/><use x=\"90\" xlink:href=\"#boxes-80ozj44op18xaunc\" y=\"15.0\"/><use x=\"90\" xlink:href=\"#text-80ozj44op18xaunc\" y=\"15.0\"/></svg>"
       ],
       "text": [
        "<IPython.core.display.SVG at 0x10cabbc50>"
       ]
      }
     ],
     "prompt_number": 7
    },
    {
     "cell_type": "code",
     "collapsed": false,
     "input": [],
     "language": "python",
     "metadata": {},
     "outputs": [],
     "prompt_number": 7
    },
    {
     "cell_type": "code",
     "collapsed": false,
     "input": [],
     "language": "python",
     "metadata": {},
     "outputs": []
    }
   ],
   "metadata": {}
  }
 ]
}