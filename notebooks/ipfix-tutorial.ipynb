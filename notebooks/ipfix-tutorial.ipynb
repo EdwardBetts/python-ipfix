{
 "metadata": {
  "name": "ipfix-tutorial"
 },
 "nbformat": 3,
 "nbformat_minor": 0,
 "worksheets": [
  {
   "cells": [
    {
     "cell_type": "markdown",
     "metadata": {},
     "source": [
      "IPFIX Tutorial\n",
      "--------------\n",
      "\n",
      "Here we'll construct a few IPFIX messages to have a look at the structures on the wire. First we need to set up the environment for the tutorial, and define some convenience functions that will make things easier."
     ]
    },
    {
     "cell_type": "code",
     "collapsed": false,
     "input": [
      "import ipfix\n",
      "import ipfix.vis\n",
      "\n",
      "from ipaddress import ip_address\n",
      "from datetime import datetime\n",
      "from IPython.display import SVG\n",
      "\n",
      "def iso8601(x):\n",
      "    return datetime.strptime(x+\" +0000\", \"%Y-%m-%d %H:%M:%S.%f %Z\")\n"
     ],
     "language": "python",
     "metadata": {},
     "outputs": [],
     "prompt_number": 1
    },
    {
     "cell_type": "markdown",
     "metadata": {},
     "source": [
      "IPFIX identifies data record structures using Information Elements. The basic Information Elements are defined in the IANA [IPFIX Information Element Registry](http://www.iana.org/assignments/ipfix), and a mechanism for applying these Information Elements to export bidirectional flow data is defined in [RFC 5103](http://tools.ietf.org/html/5103). In order to work with these Information Elements, we'll need to tell the ipfix module to use them:"
     ]
    },
    {
     "cell_type": "code",
     "collapsed": false,
     "input": [
      "ipfix.ie.use_iana_default()\n",
      "ipfix.ie.use_5103_default()"
     ],
     "language": "python",
     "metadata": {},
     "outputs": [],
     "prompt_number": 2
    },
    {
     "cell_type": "markdown",
     "metadata": {},
     "source": [
      "Okay, now we're ready to begin.\n",
      "\n",
      "Information Elements\n",
      "--------------------\n",
      "\n",
      "IPFIX provides flexible, self-describing representation of flow records using Templates made up of Information Elements. The set of Information Elements provided in the IANA registry can be used to represent most common entities and values in network traffic data. Each Information Element has a name, which describes (very briefly and not always very well) what it means; a number, which is used to represent it on the wire; and an abstract data type, which defines how it is encoded. \n",
      "\n",
      "The Information Elements below are shown in IESpec format, an abbreviated text format described in [the IE Doctors draft](http://tools.ietf.org/html/draft-ietf-ipfix-ie-doctors). The number in parentheses is the IE number on the wire; the string in the angle brackets is the name of the abstract data type, and the number in the square brackets is the native length of the IE in bytes.\n",
      "\n",
      "There are information elements for network addresses:"
     ]
    },
    {
     "cell_type": "code",
     "collapsed": false,
     "input": [
      "str(ipfix.ie.for_spec(\"sourceIPv4Address\"))"
     ],
     "language": "python",
     "metadata": {},
     "outputs": [
      {
       "output_type": "pyout",
       "prompt_number": 4,
       "text": [
        "'sourceIPv4Address(0/8)<ipv4Address>[4]'"
       ]
      }
     ],
     "prompt_number": 4
    },
    {
     "cell_type": "code",
     "collapsed": false,
     "input": [
      "str(ipfix.ie.for_spec(\"destinationIPv6Address\"))"
     ],
     "language": "python",
     "metadata": {},
     "outputs": [
      {
       "output_type": "pyout",
       "prompt_number": 5,
       "text": [
        "'destinationIPv6Address(0/28)<ipv6Address>[16]'"
       ]
      }
     ],
     "prompt_number": 5
    },
    {
     "cell_type": "markdown",
     "metadata": {},
     "source": [
      "for timestamps at various resolutions:"
     ]
    },
    {
     "cell_type": "code",
     "collapsed": false,
     "input": [
      "str(ipfix.ie.for_spec(\"flowStartMilliseconds\"))"
     ],
     "language": "python",
     "metadata": {},
     "outputs": [
      {
       "output_type": "pyout",
       "prompt_number": 6,
       "text": [
        "'flowStartMilliseconds(0/152)<dateTimeMilliseconds>[8]'"
       ]
      }
     ],
     "prompt_number": 6
    },
    {
     "cell_type": "code",
     "collapsed": false,
     "input": [
      "str(ipfix.ie.for_spec(\"observationTimeMicroseconds\"))"
     ],
     "language": "python",
     "metadata": {},
     "outputs": [
      {
       "output_type": "pyout",
       "prompt_number": 7,
       "text": [
        "'observationTimeMicroseconds(0/324)<dateTimeMicroseconds>[8]'"
       ]
      }
     ],
     "prompt_number": 7
    },
    {
     "cell_type": "markdown",
     "metadata": {},
     "source": [
      "for packet treatment on forwarding devices:"
     ]
    },
    {
     "cell_type": "code",
     "collapsed": false,
     "input": [
      "str(ipfix.ie.for_spec(\"bgpDestinationAsNumber\"))"
     ],
     "language": "python",
     "metadata": {},
     "outputs": [
      {
       "output_type": "pyout",
       "prompt_number": 12,
       "text": [
        "'bgpDestinationAsNumber(0/17)<unsigned32>[4]'"
       ]
      }
     ],
     "prompt_number": 12
    },
    {
     "cell_type": "code",
     "collapsed": false,
     "input": [
      "str(ipfix.ie.for_spec(\"ipNextHopIPv6Address\"))"
     ],
     "language": "python",
     "metadata": {},
     "outputs": [
      {
       "output_type": "pyout",
       "prompt_number": 13,
       "text": [
        "'ipNextHopIPv6Address(0/62)<ipv6Address>[16]'"
       ]
      }
     ],
     "prompt_number": 13
    },
    {
     "cell_type": "markdown",
     "metadata": {},
     "source": [
      "all sorts of other packet header fields:"
     ]
    },
    {
     "cell_type": "code",
     "collapsed": false,
     "input": [
      "str(ipfix.ie.for_spec(\"tcpWindowSize\"))"
     ],
     "language": "python",
     "metadata": {},
     "outputs": [
      {
       "output_type": "pyout",
       "prompt_number": 14,
       "text": [
        "'tcpWindowSize(0/186)<unsigned16>[2]'"
       ]
      }
     ],
     "prompt_number": 14
    },
    {
     "cell_type": "code",
     "collapsed": false,
     "input": [
      "str(ipfix.ie.for_spec(\"fragmentIdentification\"))"
     ],
     "language": "python",
     "metadata": {},
     "outputs": [
      {
       "output_type": "pyout",
       "prompt_number": 18,
       "text": [
        "'fragmentIdentification(0/54)<unsigned32>[4]'"
       ]
      }
     ],
     "prompt_number": 18
    },
    {
     "cell_type": "code",
     "collapsed": false,
     "input": [
      "str(ipfix.ie.for_spec(\"destinationTransportPort\"))"
     ],
     "language": "python",
     "metadata": {},
     "outputs": [
      {
       "output_type": "pyout",
       "prompt_number": 19,
       "text": [
        "'destinationTransportPort(0/11)<unsigned16>[2]'"
       ]
      }
     ],
     "prompt_number": 19
    },
    {
     "cell_type": "markdown",
     "metadata": {},
     "source": [
      "basic counters:"
     ]
    },
    {
     "cell_type": "code",
     "collapsed": false,
     "input": [],
     "language": "python",
     "metadata": {},
     "outputs": []
    }
   ],
   "metadata": {}
  }
 ]
}