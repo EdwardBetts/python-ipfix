{
 "metadata": {
  "name": "ipfix-tutorial"
 },
 "nbformat": 3,
 "nbformat_minor": 0,
 "worksheets": [
  {
   "cells": [
    {
     "cell_type": "markdown",
     "metadata": {},
     "source": [
      "IPFIX Tutorial: Structures\n",
      "--------------------------\n",
      "\n",
      "Here we'll construct a few IPFIX messages to have a look at the structures on the wire. First we need to set up the environment for the tutorial, and define some convenience functions that will make things easier."
     ]
    },
    {
     "cell_type": "code",
     "collapsed": false,
     "input": [
      "import ipfix\n",
      "import ipfix.vis\n",
      "\n",
      "from ipaddress import ip_address\n",
      "from datetime import datetime\n",
      "from IPython.display import SVG\n",
      "\n",
      "def iso8601(x):\n",
      "    return datetime.strptime(x+\" +0000\", \"%Y-%m-%d %H:%M:%S.%f %z\")\n",
      "\n",
      "def draw_message(msg, length=256):\n",
      "    return SVG(ipfix.vis.MessageBufferRenderer(msg, raster=4).render(length=length))\n",
      "\n",
      "def draw_template(tmpl):\n",
      "    ofd = ipfix.vis.OctetFieldDrawing(raster=4)\n",
      "    ipfix.vis.draw_template(ofd, tmpl)\n",
      "    return SVG(ofd.render((90,30)))\n",
      "  "
     ],
     "language": "python",
     "metadata": {},
     "outputs": []
    },
    {
     "cell_type": "markdown",
     "metadata": {},
     "source": [
      "IPFIX identifies data record structures using Information Elements. The basic Information Elements are defined in the IANA [IPFIX Information Element Registry](http://www.iana.org/assignments/ipfix), and a mechanism for applying these Information Elements to export bidirectional flow data is defined in [RFC 5103](http://tools.ietf.org/html/5103). In order to work with these Information Elements, we'll need to tell the ipfix module to use them:"
     ]
    },
    {
     "cell_type": "code",
     "collapsed": false,
     "input": [
      "ipfix.ie.use_iana_default()\n",
      "ipfix.ie.use_5103_default()"
     ],
     "language": "python",
     "metadata": {},
     "outputs": []
    },
    {
     "cell_type": "markdown",
     "metadata": {},
     "source": [
      "Okay, now we're ready to begin.\n",
      "\n",
      "Information Elements\n",
      "--------------------\n",
      "\n",
      "IPFIX provides flexible, self-describing representation of flow records using Templates made up of Information Elements. The set of Information Elements provided in the IANA registry can be used to represent most common entities and values in network traffic data. Each Information Element has a name, which describes (very briefly and not always very well) what it means; a number, which is used to represent it on the wire; and an abstract data type, which defines how it is encoded. \n",
      "\n",
      "The Information Elements below are shown in IESpec format, an abbreviated text format described in [the IE Doctors draft](http://tools.ietf.org/html/draft-ietf-ipfix-ie-doctors). The number in parentheses is the IE number on the wire; the string in the angle brackets is the name of the abstract data type, and the number in the square brackets is the native length of the IE in bytes.\n",
      "\n",
      "There are information elements for network addresses:"
     ]
    },
    {
     "cell_type": "code",
     "collapsed": false,
     "input": [
      "str(ipfix.ie.for_spec(\"sourceIPv4Address\"))"
     ],
     "language": "python",
     "metadata": {},
     "outputs": []
    },
    {
     "cell_type": "code",
     "collapsed": false,
     "input": [
      "str(ipfix.ie.for_spec(\"destinationIPv6Address\"))"
     ],
     "language": "python",
     "metadata": {},
     "outputs": []
    },
    {
     "cell_type": "markdown",
     "metadata": {},
     "source": [
      "for timestamps at various resolutions:"
     ]
    },
    {
     "cell_type": "code",
     "collapsed": false,
     "input": [
      "str(ipfix.ie.for_spec(\"flowStartMilliseconds\"))"
     ],
     "language": "python",
     "metadata": {},
     "outputs": []
    },
    {
     "cell_type": "code",
     "collapsed": false,
     "input": [
      "str(ipfix.ie.for_spec(\"observationTimeMicroseconds\"))"
     ],
     "language": "python",
     "metadata": {},
     "outputs": []
    },
    {
     "cell_type": "markdown",
     "metadata": {},
     "source": [
      "for packet treatment on forwarding devices:"
     ]
    },
    {
     "cell_type": "code",
     "collapsed": false,
     "input": [
      "str(ipfix.ie.for_spec(\"bgpDestinationAsNumber\"))"
     ],
     "language": "python",
     "metadata": {},
     "outputs": []
    },
    {
     "cell_type": "code",
     "collapsed": false,
     "input": [
      "str(ipfix.ie.for_spec(\"ipNextHopIPv6Address\"))"
     ],
     "language": "python",
     "metadata": {},
     "outputs": []
    },
    {
     "cell_type": "markdown",
     "metadata": {},
     "source": [
      "all sorts of other packet header fields:"
     ]
    },
    {
     "cell_type": "code",
     "collapsed": false,
     "input": [
      "str(ipfix.ie.for_spec(\"tcpWindowSize\"))"
     ],
     "language": "python",
     "metadata": {},
     "outputs": []
    },
    {
     "cell_type": "code",
     "collapsed": false,
     "input": [
      "str(ipfix.ie.for_spec(\"fragmentIdentification\"))"
     ],
     "language": "python",
     "metadata": {},
     "outputs": []
    },
    {
     "cell_type": "code",
     "collapsed": false,
     "input": [
      "str(ipfix.ie.for_spec(\"destinationTransportPort\"))"
     ],
     "language": "python",
     "metadata": {},
     "outputs": []
    },
    {
     "cell_type": "markdown",
     "metadata": {},
     "source": [
      "...and so on."
     ]
    },
    {
     "cell_type": "markdown",
     "metadata": {},
     "source": [
      "Templates and Messages\n",
      "----------------------\n",
      "\n",
      "A Template is an ordered sequence of Information Elements that describes the structure of a type of Data Record.\n",
      "\n",
      "Let's consider a template defining a simple flow record:"
     ]
    },
    {
     "cell_type": "code",
     "collapsed": false,
     "input": [
      "tmpl = ipfix.template.for_specs(261, \"flowStartMilliseconds\", \n",
      "                                     \"flowEndMilliseconds\", \n",
      "                                     \"sourceIPv4Address\", \n",
      "                                     \"destinationIPv4Address\",\n",
      "                                     \"sourceTransportPort\",\n",
      "                                     \"destinationTransportPort\",\n",
      "                                     \"protocolIdentifier\",\n",
      "                                     \"octetDeltaCount\", \n",
      "                                     \"packetDeltaCount\")\n",
      "draw_template(tmpl)"
     ],
     "language": "python",
     "metadata": {},
     "outputs": []
    },
    {
     "cell_type": "markdown",
     "metadata": {},
     "source": [
      "To illustrate how this is used to encode a record, let's add this template to a message, along with a record encoded using the template:"
     ]
    },
    {
     "cell_type": "code",
     "collapsed": false,
     "input": [
      "msg = ipfix.message.MessageBuffer()\n",
      "msg.begin_export(8304)\n",
      "msg.add_template(tmpl)\n",
      "msg.export_new_set(261)\n",
      "msg.export_namedict({ 'flowStartMilliseconds':    iso8601('2012-10-22 09:29:07.170000'),\n",
      "                      'flowEndMilliseconds':      iso8601('2012-10-22 09:29:33.916000'),\n",
      "                      'sourceIPv4Address':        ip_address('192.0.2.11'),\n",
      "                      'destinationIPv4Address':   ip_address('192.0.2.212'),\n",
      "                      'sourceTransportPort':      32798,\n",
      "                      'destinationTransportPort': 80,\n",
      "                      'protocolIdentifier':       6,\n",
      "                      'packetDeltaCount':         17,\n",
      "                      'octetDeltaCount':          3329})\n",
      "draw_message(msg)\n"
     ],
     "language": "python",
     "metadata": {},
     "outputs": []
    },
    {
     "cell_type": "markdown",
     "metadata": {},
     "source": [
      "The set ID matches the template ID, and the Information Elements in the Template appear in the same order as the fields in the Data Records in the Message.\n",
      "\n",
      "Templates are persistent within a session; subsequent messages can refer to templates sent in previous messages:"
     ]
    },
    {
     "cell_type": "code",
     "collapsed": false,
     "input": [
      "msg.begin_export(8304)\n",
      "msg.export_new_set(261)\n",
      "msg.export_namedict({ 'flowStartMilliseconds':    iso8601('2012-10-22 09:30:01.912000'),\n",
      "                      'flowEndMilliseconds':      iso8601('2012-10-22 09:31:15.009000'),\n",
      "                      'sourceIPv4Address':        ip_address('192.0.2.212'),\n",
      "                      'destinationIPv4Address':   ip_address('192.0.2.11'),\n",
      "                      'sourceTransportPort':      80,\n",
      "                      'destinationTransportPort': 32801,\n",
      "                      'protocolIdentifier':       6,\n",
      "                      'packetDeltaCount':         83,\n",
      "                      'octetDeltaCount':          97501})\n",
      "msg.export_namedict({ 'flowStartMilliseconds':    iso8601('2012-10-22 09:30:08.182000'),\n",
      "                      'flowEndMilliseconds':      iso8601('2012-10-22 09:31:16.012000'),\n",
      "                      'sourceIPv4Address':        ip_address('192.0.2.212'),\n",
      "                      'destinationIPv4Address':   ip_address('192.0.2.11'),\n",
      "                      'sourceTransportPort':      80,\n",
      "                      'destinationTransportPort': 32802,\n",
      "                      'protocolIdentifier':       6,\n",
      "                      'packetDeltaCount':         99,\n",
      "                      'octetDeltaCount':          136172})\n",
      "draw_message(msg)"
     ],
     "language": "python",
     "metadata": {},
     "outputs": []
    },
    {
     "cell_type": "markdown",
     "metadata": {},
     "source": [
      "To see how IPFIX encodes reduced-length and variable-length Information Elements, let's define a new Template including the 802.11 SSID, encoded as a UTF-8 string. Here, note that the octetDeltaCount and packetDeltaCount Information Elements are exported using 4 bytes instead of the native 8, as well."
     ]
    },
    {
     "cell_type": "code",
     "collapsed": false,
     "input": [
      "vtmpl = ipfix.template.for_specs(262, \"flowStartMilliseconds\", \n",
      "                                      \"flowEndMilliseconds\", \n",
      "                                      \"sourceIPv6Address\", \n",
      "                                      \"destinationIPv6Address\",\n",
      "                                      \"octetDeltaCount[4]\", \n",
      "                                      \"packetDeltaCount[4]\",\n",
      "                                      \"wlanSSID\")\n",
      "msg.begin_export(8304)\n",
      "msg.add_template(vtmpl)\n",
      "msg.export_new_set(262)\n",
      "msg.export_namedict({'flowStartMilliseconds':    iso8601('2012-10-22 09:31:54.903000'),\n",
      "                     'flowEndMilliseconds':      iso8601('2012-10-22 09:41:52.627000'),\n",
      "                     'sourceIPv6Address':        ip_address('2001:db8:c0:ffee::2'),\n",
      "                     'destinationIPv6Address':   ip_address('2001:bd8:b:ea75::3'),\n",
      "                     'packetDeltaCount':         212,\n",
      "                     'octetDeltaCount':          553290,\n",
      "                     'wlanSSID':                 'ietf-a-v6only'})\n",
      "draw_message(msg)"
     ],
     "language": "python",
     "metadata": {},
     "outputs": []
    },
    {
     "cell_type": "markdown",
     "metadata": {},
     "source": [
      "In Action\n",
      "---------\n",
      "\n",
      "Illustrating encodings with example messages is nice, but IPFIX is an export protocol as well as a data format. To see IPFIX in action, configure an Exporting Process to connect to TCP port 4739 on the machine running the notebook server. Run the following code to accept the next connection, then start the exporting process:"
     ]
    },
    {
     "cell_type": "code",
     "collapsed": false,
     "input": [
      "import socketserver\n",
      "import ipfix.reader\n",
      "\n",
      "msg_count = 100\n",
      "msg_length = 512\n",
      "msg_idx = 0\n",
      "\n",
      "svgbuf = []\n",
      "\n",
      "def draw_next_buffered_message(next_msg_idx = None):\n",
      "    global msg_idx\n",
      "    if next_msg_idx is not None:\n",
      "        msg_idx = next_msg_idx\n",
      "    display(SVG(data=svgbuf[msg_idx]))\n",
      "    msg_idx += 1\n",
      "\n",
      "class StreamRendererHandler(socketserver.StreamRequestHandler):\n",
      "    def handle(self):\n",
      "        global svgbuf\n",
      "        print (\"connection from \"+str(self.client_address))\n",
      "        r = ipfix.reader.from_stream(self.rfile)\n",
      "        msr = ipfix.vis.MessageStreamRenderer(self.rfile, scale=(90,30), raster=4)\n",
      "        \n",
      "        for i in range(msg_count):\n",
      "            svgbuf.append(msr.render_next_message(msg_length))\n",
      "\n",
      "srv = socketserver.TCPServer((\"\", 4739), StreamRendererHandler)\n",
      "srv.handle_request()\n",
      "srv = None"
     ],
     "language": "python",
     "metadata": {},
     "outputs": []
    },
    {
     "cell_type": "markdown",
     "metadata": {},
     "source": [
      "This will probably cause the exporting process to fail, since it accepts a TCP connection then drops it unceremoniously after the first few messages. You can then display the first bytes of the first few messages by repeatedly running:"
     ]
    },
    {
     "cell_type": "code",
     "collapsed": false,
     "input": [
      "draw_next_buffered_message()"
     ],
     "language": "python",
     "metadata": {},
     "outputs": []
    },
    {
     "cell_type": "markdown",
     "metadata": {},
     "source": [
      "Beyond Flow Export\n",
      "------------------\n",
      "\n",
      "So far, we've explored the use of IPFIX for flow export; however, the protocol is useful for any application to which the following applies:\n",
      "\n",
      "- The application's data flow is fundamentally unidirectional. IPFIX is a \"push\" protocol, supporting only the export of information from a sender (an Exporting Process) to a receiver (a Collecting Process).  Request-response interactions are not supported by IPFIX.\n",
      "- The application handles discrete event information, or information to be periodically reported.  IPFIX is particularly well suited to representing events, which can be scoped in time.\n",
      "- The application handles information about network entities. IPFIX's information model is network-oriented, so network management applications have many opportunities for information model reuse.\n",
      "- The application requires a small number of arrangements of data structures relative to the number of records it handles.  The template-driven self-description mechanism used by IPFIX excels at handling large volumes of identically structured data, compared to representations which define structure inline with data (such as XML).\n",
      "\n",
      "To take an example, let's use IPFIX to periodically export ambient temperature information for a given machine. In an ideal world, we'd write a proper description for the Information Element and send it to IANA, as follows:\n",
      "\n",
      "- Name: ambientTemperatureCelsius\n",
      "- Description: The ambient temperature measured in the environment. May be associated with an Observation Point or a Metering Process; otherwise, taken to be the ambient temperature in the environment of the Exporting Process.\n",
      "- Abstract Data Type: float32\n",
      "- Units: degrees Celsius\n",
      "- Range: -273.15 - +infinity\n",
      "\n",
      "But this is just a two hour tutorial, so we'll use enterprise-specific Information Elements instead:"
     ]
    },
    {
     "cell_type": "code",
     "collapsed": false,
     "input": [
      "ipfix.ie.for_spec(\"ambientTemperatureCelsius(35566/2)<float32>[4]\")"
     ],
     "language": "python",
     "metadata": {},
     "outputs": []
    },
    {
     "cell_type": "markdown",
     "metadata": {},
     "source": [
      "And now a template and a message:"
     ]
    },
    {
     "cell_type": "code",
     "collapsed": false,
     "input": [
      "ttmpl = ipfix.template.for_specs(263, \"observationTimeMilliseconds\", \n",
      "                                      \"observationPointId[4]\",\n",
      "                                      \"ambientTemperatureCelsius\")\n",
      "msg.begin_export(8304)\n",
      "msg.add_template(ttmpl)\n",
      "msg.export_new_set(263)\n",
      "msg.export_namedict({'observationTimeMilliseconds': datetime.utcnow(),\n",
      "                     'observationPointId':          1,\n",
      "                     'ambientTemperatureCelsius':   22.3})\n",
      "draw_message(msg)"
     ],
     "language": "python",
     "metadata": {},
     "outputs": []
    },
    {
     "cell_type": "code",
     "collapsed": false,
     "input": [],
     "language": "python",
     "metadata": {},
     "outputs": []
    }
   ],
   "metadata": {}
  }
 ]
}