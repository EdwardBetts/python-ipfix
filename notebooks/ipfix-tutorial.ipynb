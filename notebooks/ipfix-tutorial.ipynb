{
 "metadata": {
  "name": "ipfix-tutorial"
 },
 "nbformat": 3,
 "nbformat_minor": 0,
 "worksheets": [
  {
   "cells": [
    {
     "cell_type": "markdown",
     "metadata": {},
     "source": [
      "IPFIX Tutorial\n",
      "--------------\n",
      "\n",
      "Here we'll construct a few IPFIX messages to have a look at the structures on the wire. First we need to set up the environment for the tutorial, and define some convenience functions that will make things easier."
     ]
    },
    {
     "cell_type": "code",
     "collapsed": false,
     "input": [
      "import ipfix\n",
      "import ipfix.vis\n",
      "\n",
      "from ipaddress import ip_address\n",
      "from datetime import datetime\n",
      "from IPython.display import SVG\n",
      "\n",
      "def iso8601(x):\n",
      "    return datetime.strptime(x+\" +0000\", \"%Y-%m-%d %H:%M:%S.%f %Z\")\n",
      "\n",
      "def draw_message(msg, length=256):\n",
      "    return SVG(ipfix.vis.MessageBufferRenderer(msg).render(length=length))\n",
      "\n",
      "def draw_template(tmpl):\n",
      "    ofd = ipfix.vis.OctetFieldDrawing(raster=4)\n",
      "    ipfix.vis.draw_template(ofd, tmpl)\n",
      "    return SVG(ofd.render((90,30)))\n",
      "  "
     ],
     "language": "python",
     "metadata": {},
     "outputs": [],
     "prompt_number": 9
    },
    {
     "cell_type": "markdown",
     "metadata": {},
     "source": [
      "IPFIX identifies data record structures using Information Elements. The basic Information Elements are defined in the IANA [IPFIX Information Element Registry](http://www.iana.org/assignments/ipfix), and a mechanism for applying these Information Elements to export bidirectional flow data is defined in [RFC 5103](http://tools.ietf.org/html/5103). In order to work with these Information Elements, we'll need to tell the ipfix module to use them:"
     ]
    },
    {
     "cell_type": "code",
     "collapsed": false,
     "input": [
      "ipfix.ie.use_iana_default()\n",
      "ipfix.ie.use_5103_default()"
     ],
     "language": "python",
     "metadata": {},
     "outputs": [],
     "prompt_number": 3
    },
    {
     "cell_type": "markdown",
     "metadata": {},
     "source": [
      "Okay, now we're ready to begin.\n",
      "\n",
      "Information Elements\n",
      "--------------------\n",
      "\n",
      "IPFIX provides flexible, self-describing representation of flow records using Templates made up of Information Elements. The set of Information Elements provided in the IANA registry can be used to represent most common entities and values in network traffic data. Each Information Element has a name, which describes (very briefly and not always very well) what it means; a number, which is used to represent it on the wire; and an abstract data type, which defines how it is encoded. \n",
      "\n",
      "The Information Elements below are shown in IESpec format, an abbreviated text format described in [the IE Doctors draft](http://tools.ietf.org/html/draft-ietf-ipfix-ie-doctors). The number in parentheses is the IE number on the wire; the string in the angle brackets is the name of the abstract data type, and the number in the square brackets is the native length of the IE in bytes.\n",
      "\n",
      "There are information elements for network addresses:"
     ]
    },
    {
     "cell_type": "code",
     "collapsed": false,
     "input": [
      "str(ipfix.ie.for_spec(\"sourceIPv4Address\"))"
     ],
     "language": "python",
     "metadata": {},
     "outputs": [
      {
       "output_type": "pyout",
       "prompt_number": 4,
       "text": [
        "'sourceIPv4Address(0/8)<ipv4Address>[4]'"
       ]
      }
     ],
     "prompt_number": 4
    },
    {
     "cell_type": "code",
     "collapsed": false,
     "input": [
      "str(ipfix.ie.for_spec(\"destinationIPv6Address\"))"
     ],
     "language": "python",
     "metadata": {},
     "outputs": [
      {
       "output_type": "pyout",
       "prompt_number": 5,
       "text": [
        "'destinationIPv6Address(0/28)<ipv6Address>[16]'"
       ]
      }
     ],
     "prompt_number": 5
    },
    {
     "cell_type": "markdown",
     "metadata": {},
     "source": [
      "for timestamps at various resolutions:"
     ]
    },
    {
     "cell_type": "code",
     "collapsed": false,
     "input": [
      "str(ipfix.ie.for_spec(\"flowStartMilliseconds\"))"
     ],
     "language": "python",
     "metadata": {},
     "outputs": [
      {
       "output_type": "pyout",
       "prompt_number": 6,
       "text": [
        "'flowStartMilliseconds(0/152)<dateTimeMilliseconds>[8]'"
       ]
      }
     ],
     "prompt_number": 6
    },
    {
     "cell_type": "code",
     "collapsed": false,
     "input": [
      "str(ipfix.ie.for_spec(\"observationTimeMicroseconds\"))"
     ],
     "language": "python",
     "metadata": {},
     "outputs": [
      {
       "output_type": "pyout",
       "prompt_number": 7,
       "text": [
        "'observationTimeMicroseconds(0/324)<dateTimeMicroseconds>[8]'"
       ]
      }
     ],
     "prompt_number": 7
    },
    {
     "cell_type": "markdown",
     "metadata": {},
     "source": [
      "for packet treatment on forwarding devices:"
     ]
    },
    {
     "cell_type": "code",
     "collapsed": false,
     "input": [
      "str(ipfix.ie.for_spec(\"bgpDestinationAsNumber\"))"
     ],
     "language": "python",
     "metadata": {},
     "outputs": [
      {
       "output_type": "pyout",
       "prompt_number": 12,
       "text": [
        "'bgpDestinationAsNumber(0/17)<unsigned32>[4]'"
       ]
      }
     ],
     "prompt_number": 12
    },
    {
     "cell_type": "code",
     "collapsed": false,
     "input": [
      "str(ipfix.ie.for_spec(\"ipNextHopIPv6Address\"))"
     ],
     "language": "python",
     "metadata": {},
     "outputs": [
      {
       "output_type": "pyout",
       "prompt_number": 13,
       "text": [
        "'ipNextHopIPv6Address(0/62)<ipv6Address>[16]'"
       ]
      }
     ],
     "prompt_number": 13
    },
    {
     "cell_type": "markdown",
     "metadata": {},
     "source": [
      "all sorts of other packet header fields:"
     ]
    },
    {
     "cell_type": "code",
     "collapsed": false,
     "input": [
      "str(ipfix.ie.for_spec(\"tcpWindowSize\"))"
     ],
     "language": "python",
     "metadata": {},
     "outputs": [
      {
       "output_type": "pyout",
       "prompt_number": 14,
       "text": [
        "'tcpWindowSize(0/186)<unsigned16>[2]'"
       ]
      }
     ],
     "prompt_number": 14
    },
    {
     "cell_type": "code",
     "collapsed": false,
     "input": [
      "str(ipfix.ie.for_spec(\"fragmentIdentification\"))"
     ],
     "language": "python",
     "metadata": {},
     "outputs": [
      {
       "output_type": "pyout",
       "prompt_number": 18,
       "text": [
        "'fragmentIdentification(0/54)<unsigned32>[4]'"
       ]
      }
     ],
     "prompt_number": 18
    },
    {
     "cell_type": "code",
     "collapsed": false,
     "input": [
      "str(ipfix.ie.for_spec(\"destinationTransportPort\"))"
     ],
     "language": "python",
     "metadata": {},
     "outputs": [
      {
       "output_type": "pyout",
       "prompt_number": 19,
       "text": [
        "'destinationTransportPort(0/11)<unsigned16>[2]'"
       ]
      }
     ],
     "prompt_number": 19
    },
    {
     "cell_type": "markdown",
     "metadata": {},
     "source": [
      "...and so on (FIXME add more here)"
     ]
    },
    {
     "cell_type": "markdown",
     "metadata": {},
     "source": [
      "Templates\n",
      "---------\n",
      "\n",
      "A Template is an ordered sequence of Information Elements that describes the structure of a type of Data Record.\n",
      "\n",
      "Let's consider a template defining a simple flow record:"
     ]
    },
    {
     "cell_type": "code",
     "collapsed": false,
     "input": [
      "tmpl = ipfix.template.for_specs(256, \"flowStartMilliseconds\", \n",
      "                                     \"flowEndMilliseconds\", \n",
      "                                     \"sourceIPv4Address\", \n",
      "                                     \"destinationIPv4Address\", \n",
      "                                     \"octetDeltaCount\", \n",
      "                                     \"packetDeltaCount\")\n",
      "draw_template(tmpl)"
     ],
     "language": "python",
     "metadata": {},
     "outputs": [
      {
       "output_type": "pyout",
       "prompt_number": 10,
       "svg": [
        "<svg baseProfile=\"full\" height=\"240\" version=\"1.1\" width=\"450\" xmlns=\"http://www.w3.org/2000/svg\" xmlns:ev=\"http://www.w3.org/2001/xml-events\" xmlns:xlink=\"http://www.w3.org/1999/xlink\"><defs><g font-size=\"17\" id=\"coladdr\"><text style=\"text-anchor: right; dominant-baseline: hanging;\" x=\"72.0\" y=\"0\">0</text><text style=\"text-anchor: right; dominant-baseline: hanging;\" x=\"162.0\" y=\"0\">1</text><text style=\"text-anchor: right; dominant-baseline: hanging;\" x=\"252.0\" y=\"0\">2</text><text style=\"text-anchor: right; dominant-baseline: hanging;\" x=\"342.0\" y=\"0\">3</text></g><g font-size=\"17\" id=\"rowaddr\"><text style=\"text-anchor: left; dominant-baseline: hanging;\" x=\"0\" y=\"0\">0x0</text><text style=\"text-anchor: left; dominant-baseline: hanging;\" x=\"0\" y=\"30\">0x4</text><text style=\"text-anchor: left; dominant-baseline: hanging;\" x=\"0\" y=\"60\">0x8</text><text style=\"text-anchor: left; dominant-baseline: hanging;\" x=\"0\" y=\"90\">0xc</text><text style=\"text-anchor: left; dominant-baseline: hanging;\" x=\"0\" y=\"120\">0x10</text><text style=\"text-anchor: left; dominant-baseline: hanging;\" x=\"0\" y=\"150\">0x14</text><text style=\"text-anchor: left; dominant-baseline: hanging;\" x=\"0\" y=\"180\">0x18</text></g><g id=\"boxes\" stroke=\"black\" stroke-width=\"2\"><rect fill=\"white\" height=\"30\" width=\"180\" x=\"0\" y=\"0\"/><rect fill=\"white\" height=\"30\" width=\"180\" x=\"180\" y=\"0\"/><rect fill=\"white\" height=\"30\" width=\"180\" x=\"0\" y=\"30\"/><rect fill=\"white\" height=\"30\" width=\"180\" x=\"180\" y=\"30\"/><rect fill=\"white\" height=\"30\" width=\"180\" x=\"0\" y=\"60\"/><rect fill=\"white\" height=\"30\" width=\"180\" x=\"180\" y=\"60\"/><rect fill=\"white\" height=\"30\" width=\"180\" x=\"0\" y=\"90\"/><rect fill=\"white\" height=\"30\" width=\"180\" x=\"180\" y=\"90\"/><rect fill=\"white\" height=\"30\" width=\"180\" x=\"0\" y=\"120\"/><rect fill=\"white\" height=\"30\" width=\"180\" x=\"180\" y=\"120\"/><rect fill=\"white\" height=\"30\" width=\"180\" x=\"0\" y=\"150\"/><rect fill=\"white\" height=\"30\" width=\"180\" x=\"180\" y=\"150\"/><rect fill=\"white\" height=\"30\" width=\"180\" x=\"0\" y=\"180\"/><rect fill=\"white\" height=\"30\" width=\"180\" x=\"180\" y=\"180\"/></g><g font-size=\"15\" id=\"text\"><text style=\"text-anchor: middle; dominant-baseline: hanging;\" x=\"90.0\" y=\"15.0\">ID: 256</text><text style=\"text-anchor: middle; dominant-baseline: hanging;\" x=\"270.0\" y=\"15.0\">Count: 6</text><text style=\"text-anchor: middle; dominant-baseline: hanging;\" x=\"90.0\" y=\"45.0\">IE: 152</text><text style=\"text-anchor: middle; dominant-baseline: hanging;\" x=\"270.0\" y=\"45.0\">Len: 8</text><text style=\"text-anchor: middle; dominant-baseline: hanging;\" x=\"90.0\" y=\"75.0\">IE: 153</text><text style=\"text-anchor: middle; dominant-baseline: hanging;\" x=\"270.0\" y=\"75.0\">Len: 8</text><text style=\"text-anchor: middle; dominant-baseline: hanging;\" x=\"90.0\" y=\"105.0\">IE: 8</text><text style=\"text-anchor: middle; dominant-baseline: hanging;\" x=\"270.0\" y=\"105.0\">Len: 4</text><text style=\"text-anchor: middle; dominant-baseline: hanging;\" x=\"90.0\" y=\"135.0\">IE: 12</text><text style=\"text-anchor: middle; dominant-baseline: hanging;\" x=\"270.0\" y=\"135.0\">Len: 4</text><text style=\"text-anchor: middle; dominant-baseline: hanging;\" x=\"90.0\" y=\"165.0\">IE: 1</text><text style=\"text-anchor: middle; dominant-baseline: hanging;\" x=\"270.0\" y=\"165.0\">Len: 8</text><text style=\"text-anchor: middle; dominant-baseline: hanging;\" x=\"90.0\" y=\"195.0\">IE: 2</text><text style=\"text-anchor: middle; dominant-baseline: hanging;\" x=\"270.0\" y=\"195.0\">Len: 8</text></g></defs><use x=\"90\" xlink:href=\"#coladdr\" y=\"0\"/><use x=\"0\" xlink:href=\"#rowaddr\" y=\"15.0\"/><use x=\"90\" xlink:href=\"#boxes\" y=\"15.0\"/><use x=\"90\" xlink:href=\"#text\" y=\"15.0\"/></svg>"
       ],
       "text": [
        "<IPython.core.display.SVG at 0x1060ce3d0>"
       ]
      }
     ],
     "prompt_number": 10
    }
   ],
   "metadata": {}
  }
 ]
}