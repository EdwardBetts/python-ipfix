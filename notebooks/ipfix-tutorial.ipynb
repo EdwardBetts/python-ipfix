{
 "metadata": {
  "name": "ipfix-tutorial"
 },
 "nbformat": 3,
 "nbformat_minor": 0,
 "worksheets": [
  {
   "cells": [
    {
     "cell_type": "markdown",
     "metadata": {},
     "source": [
      "IPFIX Tutorial: Structures\n",
      "--------------------------\n",
      "\n",
      "Here we'll construct a few IPFIX messages to have a look at the structures on the wire. First we need to set up the environment for the tutorial, and define some convenience functions that will make things easier."
     ]
    },
    {
     "cell_type": "code",
     "collapsed": false,
     "input": [
      "import ipfix\n",
      "import ipfix.vis\n",
      "\n",
      "from ipaddress import ip_address\n",
      "from datetime import datetime\n",
      "from IPython.display import SVG\n",
      "\n",
      "def iso8601(x):\n",
      "    return datetime.strptime(x+\" +0000\", \"%Y-%m-%d %H:%M:%S.%f %z\")\n",
      "\n",
      "def draw_message(msg, length=256):\n",
      "    return SVG(ipfix.vis.MessageBufferRenderer(msg, raster=4).render(length=length))\n",
      "\n",
      "def draw_template(tmpl):\n",
      "    ofd = ipfix.vis.OctetFieldDrawing(raster=4)\n",
      "    ipfix.vis.draw_template(ofd, tmpl)\n",
      "    return SVG(ofd.render((90,30)))\n",
      "  "
     ],
     "language": "python",
     "metadata": {},
     "outputs": [],
     "prompt_number": 3
    },
    {
     "cell_type": "markdown",
     "metadata": {},
     "source": [
      "IPFIX identifies data record structures using Information Elements. The basic Information Elements are defined in the IANA [IPFIX Information Element Registry](http://www.iana.org/assignments/ipfix), and a mechanism for applying these Information Elements to export bidirectional flow data is defined in [RFC 5103](http://tools.ietf.org/html/5103). In order to work with these Information Elements, we'll need to tell the ipfix module to use them:"
     ]
    },
    {
     "cell_type": "code",
     "collapsed": false,
     "input": [
      "ipfix.ie.use_iana_default()\n",
      "ipfix.ie.use_5103_default()"
     ],
     "language": "python",
     "metadata": {},
     "outputs": [],
     "prompt_number": 4
    },
    {
     "cell_type": "markdown",
     "metadata": {},
     "source": [
      "Okay, now we're ready to begin.\n",
      "\n",
      "Information Elements\n",
      "--------------------\n",
      "\n",
      "IPFIX provides flexible, self-describing representation of flow records using Templates made up of Information Elements. The set of Information Elements provided in the IANA registry can be used to represent most common entities and values in network traffic data. Each Information Element has a name, which describes (very briefly and not always very well) what it means; a number, which is used to represent it on the wire; and an abstract data type, which defines how it is encoded. \n",
      "\n",
      "The Information Elements below are shown in IESpec format, an abbreviated text format described in [the IE Doctors draft](http://tools.ietf.org/html/draft-ietf-ipfix-ie-doctors). The number in parentheses is the IE number on the wire; the string in the angle brackets is the name of the abstract data type, and the number in the square brackets is the native length of the IE in bytes.\n",
      "\n",
      "There are information elements for network addresses:"
     ]
    },
    {
     "cell_type": "code",
     "collapsed": false,
     "input": [
      "str(ipfix.ie.for_spec(\"sourceIPv4Address\"))"
     ],
     "language": "python",
     "metadata": {},
     "outputs": [
      {
       "output_type": "pyout",
       "prompt_number": 4,
       "text": [
        "'sourceIPv4Address(0/8)<ipv4Address>[4]'"
       ]
      }
     ],
     "prompt_number": 4
    },
    {
     "cell_type": "code",
     "collapsed": false,
     "input": [
      "str(ipfix.ie.for_spec(\"destinationIPv6Address\"))"
     ],
     "language": "python",
     "metadata": {},
     "outputs": [
      {
       "output_type": "pyout",
       "prompt_number": 5,
       "text": [
        "'destinationIPv6Address(0/28)<ipv6Address>[16]'"
       ]
      }
     ],
     "prompt_number": 5
    },
    {
     "cell_type": "markdown",
     "metadata": {},
     "source": [
      "for timestamps at various resolutions:"
     ]
    },
    {
     "cell_type": "code",
     "collapsed": false,
     "input": [
      "str(ipfix.ie.for_spec(\"flowStartMilliseconds\"))"
     ],
     "language": "python",
     "metadata": {},
     "outputs": [
      {
       "output_type": "pyout",
       "prompt_number": 6,
       "text": [
        "'flowStartMilliseconds(0/152)<dateTimeMilliseconds>[8]'"
       ]
      }
     ],
     "prompt_number": 6
    },
    {
     "cell_type": "code",
     "collapsed": false,
     "input": [
      "str(ipfix.ie.for_spec(\"observationTimeMicroseconds\"))"
     ],
     "language": "python",
     "metadata": {},
     "outputs": [
      {
       "output_type": "pyout",
       "prompt_number": 7,
       "text": [
        "'observationTimeMicroseconds(0/324)<dateTimeMicroseconds>[8]'"
       ]
      }
     ],
     "prompt_number": 7
    },
    {
     "cell_type": "markdown",
     "metadata": {},
     "source": [
      "for packet treatment on forwarding devices:"
     ]
    },
    {
     "cell_type": "code",
     "collapsed": false,
     "input": [
      "str(ipfix.ie.for_spec(\"bgpDestinationAsNumber\"))"
     ],
     "language": "python",
     "metadata": {},
     "outputs": [
      {
       "output_type": "pyout",
       "prompt_number": 12,
       "text": [
        "'bgpDestinationAsNumber(0/17)<unsigned32>[4]'"
       ]
      }
     ],
     "prompt_number": 12
    },
    {
     "cell_type": "code",
     "collapsed": false,
     "input": [
      "str(ipfix.ie.for_spec(\"ipNextHopIPv6Address\"))"
     ],
     "language": "python",
     "metadata": {},
     "outputs": [
      {
       "output_type": "pyout",
       "prompt_number": 13,
       "text": [
        "'ipNextHopIPv6Address(0/62)<ipv6Address>[16]'"
       ]
      }
     ],
     "prompt_number": 13
    },
    {
     "cell_type": "markdown",
     "metadata": {},
     "source": [
      "all sorts of other packet header fields:"
     ]
    },
    {
     "cell_type": "code",
     "collapsed": false,
     "input": [
      "str(ipfix.ie.for_spec(\"tcpWindowSize\"))"
     ],
     "language": "python",
     "metadata": {},
     "outputs": [
      {
       "output_type": "pyout",
       "prompt_number": 14,
       "text": [
        "'tcpWindowSize(0/186)<unsigned16>[2]'"
       ]
      }
     ],
     "prompt_number": 14
    },
    {
     "cell_type": "code",
     "collapsed": false,
     "input": [
      "str(ipfix.ie.for_spec(\"fragmentIdentification\"))"
     ],
     "language": "python",
     "metadata": {},
     "outputs": [
      {
       "output_type": "pyout",
       "prompt_number": 18,
       "text": [
        "'fragmentIdentification(0/54)<unsigned32>[4]'"
       ]
      }
     ],
     "prompt_number": 18
    },
    {
     "cell_type": "code",
     "collapsed": false,
     "input": [
      "str(ipfix.ie.for_spec(\"destinationTransportPort\"))"
     ],
     "language": "python",
     "metadata": {},
     "outputs": [
      {
       "output_type": "pyout",
       "prompt_number": 19,
       "text": [
        "'destinationTransportPort(0/11)<unsigned16>[2]'"
       ]
      }
     ],
     "prompt_number": 19
    },
    {
     "cell_type": "markdown",
     "metadata": {},
     "source": [
      "...and so on."
     ]
    },
    {
     "cell_type": "markdown",
     "metadata": {},
     "source": [
      "Templates\n",
      "---------\n",
      "\n",
      "A Template is an ordered sequence of Information Elements that describes the structure of a type of Data Record.\n",
      "\n",
      "Let's consider a template defining a simple flow record:"
     ]
    },
    {
     "cell_type": "code",
     "collapsed": false,
     "input": [
      "tmpl = ipfix.template.for_specs(261, \"flowStartMilliseconds\", \n",
      "                                     \"flowEndMilliseconds\", \n",
      "                                     \"sourceIPv4Address\", \n",
      "                                     \"destinationIPv4Address\",\n",
      "                                     \"sourceTransportPort\",\n",
      "                                     \"destinationTransportPort\",\n",
      "                                     \"protocolIdentifier\",\n",
      "                                     \"octetDeltaCount\", \n",
      "                                     \"packetDeltaCount\")\n",
      "draw_template(tmpl)"
     ],
     "language": "python",
     "metadata": {},
     "outputs": [
      {
       "output_type": "pyout",
       "prompt_number": 5,
       "svg": [
        "<svg baseProfile=\"full\" height=\"330\" version=\"1.1\" width=\"450\" xmlns=\"http://www.w3.org/2000/svg\" xmlns:ev=\"http://www.w3.org/2001/xml-events\" xmlns:xlink=\"http://www.w3.org/1999/xlink\"><defs><g font-size=\"17\" id=\"r53ivu21xlsogsny\"><text style=\"text-anchor: right; dominant-baseline: hanging;\" x=\"72.0\" y=\"0\">0</text><text style=\"text-anchor: right; dominant-baseline: hanging;\" x=\"162.0\" y=\"0\">1</text><text style=\"text-anchor: right; dominant-baseline: hanging;\" x=\"252.0\" y=\"0\">2</text><text style=\"text-anchor: right; dominant-baseline: hanging;\" x=\"342.0\" y=\"0\">3</text></g><g font-size=\"17\" id=\"bhinivfibznk6ass\"><text style=\"text-anchor: left; dominant-baseline: hanging;\" x=\"0\" y=\"0\">0x0</text><text style=\"text-anchor: left; dominant-baseline: hanging;\" x=\"0\" y=\"30\">0x4</text><text style=\"text-anchor: left; dominant-baseline: hanging;\" x=\"0\" y=\"60\">0x8</text><text style=\"text-anchor: left; dominant-baseline: hanging;\" x=\"0\" y=\"90\">0xc</text><text style=\"text-anchor: left; dominant-baseline: hanging;\" x=\"0\" y=\"120\">0x10</text><text style=\"text-anchor: left; dominant-baseline: hanging;\" x=\"0\" y=\"150\">0x14</text><text style=\"text-anchor: left; dominant-baseline: hanging;\" x=\"0\" y=\"180\">0x18</text><text style=\"text-anchor: left; dominant-baseline: hanging;\" x=\"0\" y=\"210\">0x1c</text><text style=\"text-anchor: left; dominant-baseline: hanging;\" x=\"0\" y=\"240\">0x20</text><text style=\"text-anchor: left; dominant-baseline: hanging;\" x=\"0\" y=\"270\">0x24</text></g><g id=\"boxes-qjqar34h0uliuj4e\" stroke=\"black\" stroke-width=\"2\"><rect fill=\"white\" height=\"30\" width=\"180\" x=\"0\" y=\"0\"/><rect fill=\"white\" height=\"30\" width=\"180\" x=\"180\" y=\"0\"/><rect fill=\"white\" height=\"30\" width=\"180\" x=\"0\" y=\"30\"/><rect fill=\"white\" height=\"30\" width=\"180\" x=\"180\" y=\"30\"/><rect fill=\"white\" height=\"30\" width=\"180\" x=\"0\" y=\"60\"/><rect fill=\"white\" height=\"30\" width=\"180\" x=\"180\" y=\"60\"/><rect fill=\"white\" height=\"30\" width=\"180\" x=\"0\" y=\"90\"/><rect fill=\"white\" height=\"30\" width=\"180\" x=\"180\" y=\"90\"/><rect fill=\"white\" height=\"30\" width=\"180\" x=\"0\" y=\"120\"/><rect fill=\"white\" height=\"30\" width=\"180\" x=\"180\" y=\"120\"/><rect fill=\"white\" height=\"30\" width=\"180\" x=\"0\" y=\"150\"/><rect fill=\"white\" height=\"30\" width=\"180\" x=\"180\" y=\"150\"/><rect fill=\"white\" height=\"30\" width=\"180\" x=\"0\" y=\"180\"/><rect fill=\"white\" height=\"30\" width=\"180\" x=\"180\" y=\"180\"/><rect fill=\"white\" height=\"30\" width=\"180\" x=\"0\" y=\"210\"/><rect fill=\"white\" height=\"30\" width=\"180\" x=\"180\" y=\"210\"/><rect fill=\"white\" height=\"30\" width=\"180\" x=\"0\" y=\"240\"/><rect fill=\"white\" height=\"30\" width=\"180\" x=\"180\" y=\"240\"/><rect fill=\"white\" height=\"30\" width=\"180\" x=\"0\" y=\"270\"/><rect fill=\"white\" height=\"30\" width=\"180\" x=\"180\" y=\"270\"/></g><g font-size=\"15\" id=\"text-qjqar34h0uliuj4e\"><text style=\"text-anchor: middle; dominant-baseline: hanging;\" x=\"90.0\" y=\"15.0\">ID: 261</text><text style=\"text-anchor: middle; dominant-baseline: hanging;\" x=\"270.0\" y=\"15.0\">Count: 9</text><text style=\"text-anchor: middle; dominant-baseline: hanging;\" x=\"90.0\" y=\"45.0\">IE: flowSt...onds(152)</text><text style=\"text-anchor: middle; dominant-baseline: hanging;\" x=\"270.0\" y=\"45.0\">Len: 8</text><text style=\"text-anchor: middle; dominant-baseline: hanging;\" x=\"90.0\" y=\"75.0\">IE: flowEn...onds(153)</text><text style=\"text-anchor: middle; dominant-baseline: hanging;\" x=\"270.0\" y=\"75.0\">Len: 8</text><text style=\"text-anchor: middle; dominant-baseline: hanging;\" x=\"90.0\" y=\"105.0\">IE: source...ress(8)</text><text style=\"text-anchor: middle; dominant-baseline: hanging;\" x=\"270.0\" y=\"105.0\">Len: 4</text><text style=\"text-anchor: middle; dominant-baseline: hanging;\" x=\"90.0\" y=\"135.0\">IE: destin...ress(12)</text><text style=\"text-anchor: middle; dominant-baseline: hanging;\" x=\"270.0\" y=\"135.0\">Len: 4</text><text style=\"text-anchor: middle; dominant-baseline: hanging;\" x=\"90.0\" y=\"165.0\">IE: source...Port(7)</text><text style=\"text-anchor: middle; dominant-baseline: hanging;\" x=\"270.0\" y=\"165.0\">Len: 2</text><text style=\"text-anchor: middle; dominant-baseline: hanging;\" x=\"90.0\" y=\"195.0\">IE: destin...Port(11)</text><text style=\"text-anchor: middle; dominant-baseline: hanging;\" x=\"270.0\" y=\"195.0\">Len: 2</text><text style=\"text-anchor: middle; dominant-baseline: hanging;\" x=\"90.0\" y=\"225.0\">IE: protoc...fier(4)</text><text style=\"text-anchor: middle; dominant-baseline: hanging;\" x=\"270.0\" y=\"225.0\">Len: 1</text><text style=\"text-anchor: middle; dominant-baseline: hanging;\" x=\"90.0\" y=\"255.0\">IE: octetD...ount(1)</text><text style=\"text-anchor: middle; dominant-baseline: hanging;\" x=\"270.0\" y=\"255.0\">Len: 8</text><text style=\"text-anchor: middle; dominant-baseline: hanging;\" x=\"90.0\" y=\"285.0\">IE: packet...ount(2)</text><text style=\"text-anchor: middle; dominant-baseline: hanging;\" x=\"270.0\" y=\"285.0\">Len: 8</text></g></defs><use x=\"90\" xlink:href=\"#r53ivu21xlsogsny\" y=\"0\"/><use x=\"0\" xlink:href=\"#bhinivfibznk6ass\" y=\"15.0\"/><use x=\"90\" xlink:href=\"#boxes-qjqar34h0uliuj4e\" y=\"15.0\"/><use x=\"90\" xlink:href=\"#text-qjqar34h0uliuj4e\" y=\"15.0\"/></svg>"
       ],
       "text": [
        "<IPython.core.display.SVG at 0x1068b2c90>"
       ]
      }
     ],
     "prompt_number": 5
    },
    {
     "cell_type": "markdown",
     "metadata": {},
     "source": [
      "To illustrate how this is used to encode a record, let's add this template to a message, along with a record encoded using the template:"
     ]
    },
    {
     "cell_type": "code",
     "collapsed": false,
     "input": [
      "msg = ipfix.message.MessageBuffer()\n",
      "msg.begin_export(8304)\n",
      "msg.add_template(tmpl)\n",
      "msg.export_new_set(261)\n",
      "msg.export_namedict({ 'flowStartMilliseconds':    iso8601('2012-10-22 09:29:07.170000'),\n",
      "                      'flowEndMilliseconds':      iso8601('2012-10-22 09:29:33.916000'),\n",
      "                      'sourceIPv4Address':        ip_address('192.0.2.11'),\n",
      "                      'destinationIPv4Address':   ip_address('192.0.2.212'),\n",
      "                      'sourceTransportPort':      32798,\n",
      "                      'destinationTransportPort': 80,\n",
      "                      'protocolIdentifier':       6,\n",
      "                      'packetDeltaCount':         17,\n",
      "                      'octetDeltaCount':          3329})\n",
      "draw_message(msg)\n"
     ],
     "language": "python",
     "metadata": {},
     "outputs": [
      {
       "output_type": "pyout",
       "prompt_number": 6,
       "svg": [
        "<svg baseProfile=\"full\" height=\"870\" version=\"1.1\" width=\"450\" xmlns=\"http://www.w3.org/2000/svg\" xmlns:ev=\"http://www.w3.org/2001/xml-events\" xmlns:xlink=\"http://www.w3.org/1999/xlink\"><defs><g font-size=\"17\" id=\"ejxrmt9m3uni8efd\"><text style=\"text-anchor: right; dominant-baseline: hanging;\" x=\"72.0\" y=\"0\">0</text><text style=\"text-anchor: right; dominant-baseline: hanging;\" x=\"162.0\" y=\"0\">1</text><text style=\"text-anchor: right; dominant-baseline: hanging;\" x=\"252.0\" y=\"0\">2</text><text style=\"text-anchor: right; dominant-baseline: hanging;\" x=\"342.0\" y=\"0\">3</text></g><g font-size=\"17\" id=\"97wb6q2990ddk8xe\"><text style=\"text-anchor: left; dominant-baseline: hanging;\" x=\"0\" y=\"0\">0x0</text><text style=\"text-anchor: left; dominant-baseline: hanging;\" x=\"0\" y=\"30\">0x4</text><text style=\"text-anchor: left; dominant-baseline: hanging;\" x=\"0\" y=\"60\">0x8</text><text style=\"text-anchor: left; dominant-baseline: hanging;\" x=\"0\" y=\"90\">0xc</text><text style=\"text-anchor: left; dominant-baseline: hanging;\" x=\"0\" y=\"120\">0x10</text><text style=\"text-anchor: left; dominant-baseline: hanging;\" x=\"0\" y=\"150\">0x14</text><text style=\"text-anchor: left; dominant-baseline: hanging;\" x=\"0\" y=\"180\">0x18</text><text style=\"text-anchor: left; dominant-baseline: hanging;\" x=\"0\" y=\"210\">0x1c</text><text style=\"text-anchor: left; dominant-baseline: hanging;\" x=\"0\" y=\"240\">0x20</text><text style=\"text-anchor: left; dominant-baseline: hanging;\" x=\"0\" y=\"270\">0x24</text><text style=\"text-anchor: left; dominant-baseline: hanging;\" x=\"0\" y=\"300\">0x28</text><text style=\"text-anchor: left; dominant-baseline: hanging;\" x=\"0\" y=\"330\">0x2c</text><text style=\"text-anchor: left; dominant-baseline: hanging;\" x=\"0\" y=\"360\">0x30</text><text style=\"text-anchor: left; dominant-baseline: hanging;\" x=\"0\" y=\"390\">0x34</text><text style=\"text-anchor: left; dominant-baseline: hanging;\" x=\"0\" y=\"420\">0x38</text><text style=\"text-anchor: left; dominant-baseline: hanging;\" x=\"0\" y=\"450\">0x3c</text><text style=\"text-anchor: left; dominant-baseline: hanging;\" x=\"0\" y=\"480\">0x40</text><text style=\"text-anchor: left; dominant-baseline: hanging;\" x=\"0\" y=\"510\">0x44</text><text style=\"text-anchor: left; dominant-baseline: hanging;\" x=\"0\" y=\"540\">0x48</text><text style=\"text-anchor: left; dominant-baseline: hanging;\" x=\"0\" y=\"570\">0x4c</text><text style=\"text-anchor: left; dominant-baseline: hanging;\" x=\"0\" y=\"600\">0x50</text><text style=\"text-anchor: left; dominant-baseline: hanging;\" x=\"0\" y=\"630\">0x54</text><text style=\"text-anchor: left; dominant-baseline: hanging;\" x=\"0\" y=\"660\">0x58</text><text style=\"text-anchor: left; dominant-baseline: hanging;\" x=\"0\" y=\"690\">0x59</text><text style=\"text-anchor: left; dominant-baseline: hanging;\" x=\"0\" y=\"720\">0x5d</text><text style=\"text-anchor: left; dominant-baseline: hanging;\" x=\"0\" y=\"750\">0x61</text><text style=\"text-anchor: left; dominant-baseline: hanging;\" x=\"0\" y=\"780\">0x65</text><text style=\"text-anchor: left; dominant-baseline: hanging;\" x=\"0\" y=\"810\">0x69</text></g><g id=\"boxes-nablrl09mriftrz0\" stroke=\"black\" stroke-width=\"2\"><rect fill=\"rgb(255,216,216)\" height=\"30\" width=\"180\" x=\"0\" y=\"0\"/><rect fill=\"rgb(255,216,216)\" height=\"30\" width=\"180\" x=\"180\" y=\"0\"/><rect fill=\"rgb(255,216,216)\" height=\"30\" width=\"360\" x=\"0\" y=\"30\"/><rect fill=\"rgb(255,216,216)\" height=\"30\" width=\"360\" x=\"0\" y=\"60\"/><rect fill=\"rgb(255,216,216)\" height=\"30\" width=\"360\" x=\"0\" y=\"90\"/><rect fill=\"rgb(240,192,216)\" height=\"30\" width=\"180\" x=\"0\" y=\"120\"/><rect fill=\"rgb(240,192,216)\" height=\"30\" width=\"180\" x=\"180\" y=\"120\"/><rect fill=\"rgb(224,224,255)\" height=\"30\" width=\"180\" x=\"0\" y=\"150\"/><rect fill=\"rgb(224,224,255)\" height=\"30\" width=\"180\" x=\"180\" y=\"150\"/><rect fill=\"rgb(224,224,255)\" height=\"30\" width=\"180\" x=\"0\" y=\"180\"/><rect fill=\"rgb(224,224,255)\" height=\"30\" width=\"180\" x=\"180\" y=\"180\"/><rect fill=\"rgb(224,224,255)\" height=\"30\" width=\"180\" x=\"0\" y=\"210\"/><rect fill=\"rgb(224,224,255)\" height=\"30\" width=\"180\" x=\"180\" y=\"210\"/><rect fill=\"rgb(224,224,255)\" height=\"30\" width=\"180\" x=\"0\" y=\"240\"/><rect fill=\"rgb(224,224,255)\" height=\"30\" width=\"180\" x=\"180\" y=\"240\"/><rect fill=\"rgb(224,224,255)\" height=\"30\" width=\"180\" x=\"0\" y=\"270\"/><rect fill=\"rgb(224,224,255)\" height=\"30\" width=\"180\" x=\"180\" y=\"270\"/><rect fill=\"rgb(224,224,255)\" height=\"30\" width=\"180\" x=\"0\" y=\"300\"/><rect fill=\"rgb(224,224,255)\" height=\"30\" width=\"180\" x=\"180\" y=\"300\"/><rect fill=\"rgb(224,224,255)\" height=\"30\" width=\"180\" x=\"0\" y=\"330\"/><rect fill=\"rgb(224,224,255)\" height=\"30\" width=\"180\" x=\"180\" y=\"330\"/><rect fill=\"rgb(224,224,255)\" height=\"30\" width=\"180\" x=\"0\" y=\"360\"/><rect fill=\"rgb(224,224,255)\" height=\"30\" width=\"180\" x=\"180\" y=\"360\"/><rect fill=\"rgb(224,224,255)\" height=\"30\" width=\"180\" x=\"0\" y=\"390\"/><rect fill=\"rgb(224,224,255)\" height=\"30\" width=\"180\" x=\"180\" y=\"390\"/><rect fill=\"rgb(224,224,255)\" height=\"30\" width=\"180\" x=\"0\" y=\"420\"/><rect fill=\"rgb(224,224,255)\" height=\"30\" width=\"180\" x=\"180\" y=\"420\"/><rect fill=\"rgb(240,192,216)\" height=\"30\" width=\"180\" x=\"0\" y=\"450\"/><rect fill=\"rgb(240,192,216)\" height=\"30\" width=\"180\" x=\"180\" y=\"450\"/><polyline fill=\"rgb(255,255,216)\" points=\"360,450 360,450 360,510 0,510 0,480 360,480 360,450\"/><rect fill=\"rgb(255,255,216)\" height=\"60.0\" width=\"360\" x=\"0\" y=\"510\"/><rect fill=\"rgb(255,255,216)\" height=\"30\" width=\"360\" x=\"0\" y=\"570\"/><rect fill=\"rgb(255,255,216)\" height=\"30\" width=\"360\" x=\"0\" y=\"600\"/><rect fill=\"rgb(255,255,216)\" height=\"30\" width=\"180\" x=\"0\" y=\"630\"/><rect fill=\"rgb(255,255,216)\" height=\"30\" width=\"180\" x=\"180\" y=\"630\"/><rect fill=\"rgb(255,255,216)\" height=\"30\" width=\"90\" x=\"0\" y=\"660\"/><rect fill=\"rgb(255,255,216)\" height=\"60.0\" width=\"360\" x=\"0\" y=\"690\"/><rect fill=\"rgb(255,255,216)\" height=\"60.0\" width=\"360\" x=\"0\" y=\"750\"/></g><g font-size=\"15\" id=\"text-nablrl09mriftrz0\"><text style=\"text-anchor: middle; dominant-baseline: hanging;\" x=\"90.0\" y=\"15.0\">Version: 10</text><text style=\"text-anchor: middle; dominant-baseline: hanging;\" x=\"270.0\" y=\"15.0\">Length: 109</text><text style=\"text-anchor: middle; dominant-baseline: hanging;\" x=\"180.0\" y=\"45.0\">Sequence: 0</text><text style=\"text-anchor: middle; dominant-baseline: hanging;\" x=\"180.0\" y=\"75.0\">Export Time: 2013-07-05 08:53:23</text><text style=\"text-anchor: middle; dominant-baseline: hanging;\" x=\"180.0\" y=\"105.0\">Observation Domain: 8304</text><text style=\"text-anchor: middle; dominant-baseline: hanging;\" x=\"90.0\" y=\"135.0\">Set ID: 2</text><text style=\"text-anchor: middle; dominant-baseline: hanging;\" x=\"270.0\" y=\"135.0\">Set Length: 44</text><text style=\"text-anchor: middle; dominant-baseline: hanging;\" x=\"90.0\" y=\"165.0\">ID: 261</text><text style=\"text-anchor: middle; dominant-baseline: hanging;\" x=\"270.0\" y=\"165.0\">Count: 9</text><text style=\"text-anchor: middle; dominant-baseline: hanging;\" x=\"90.0\" y=\"195.0\">IE: flowSt...onds(152)</text><text style=\"text-anchor: middle; dominant-baseline: hanging;\" x=\"270.0\" y=\"195.0\">Len: 8</text><text style=\"text-anchor: middle; dominant-baseline: hanging;\" x=\"90.0\" y=\"225.0\">IE: flowEn...onds(153)</text><text style=\"text-anchor: middle; dominant-baseline: hanging;\" x=\"270.0\" y=\"225.0\">Len: 8</text><text style=\"text-anchor: middle; dominant-baseline: hanging;\" x=\"90.0\" y=\"255.0\">IE: source...ress(8)</text><text style=\"text-anchor: middle; dominant-baseline: hanging;\" x=\"270.0\" y=\"255.0\">Len: 4</text><text style=\"text-anchor: middle; dominant-baseline: hanging;\" x=\"90.0\" y=\"285.0\">IE: destin...ress(12)</text><text style=\"text-anchor: middle; dominant-baseline: hanging;\" x=\"270.0\" y=\"285.0\">Len: 4</text><text style=\"text-anchor: middle; dominant-baseline: hanging;\" x=\"90.0\" y=\"315.0\">IE: source...Port(7)</text><text style=\"text-anchor: middle; dominant-baseline: hanging;\" x=\"270.0\" y=\"315.0\">Len: 2</text><text style=\"text-anchor: middle; dominant-baseline: hanging;\" x=\"90.0\" y=\"345.0\">IE: destin...Port(11)</text><text style=\"text-anchor: middle; dominant-baseline: hanging;\" x=\"270.0\" y=\"345.0\">Len: 2</text><text style=\"text-anchor: middle; dominant-baseline: hanging;\" x=\"90.0\" y=\"375.0\">IE: protoc...fier(4)</text><text style=\"text-anchor: middle; dominant-baseline: hanging;\" x=\"270.0\" y=\"375.0\">Len: 1</text><text style=\"text-anchor: middle; dominant-baseline: hanging;\" x=\"90.0\" y=\"405.0\">IE: octetD...ount(1)</text><text style=\"text-anchor: middle; dominant-baseline: hanging;\" x=\"270.0\" y=\"405.0\">Len: 8</text><text style=\"text-anchor: middle; dominant-baseline: hanging;\" x=\"90.0\" y=\"435.0\">IE: packet...ount(2)</text><text style=\"text-anchor: middle; dominant-baseline: hanging;\" x=\"270.0\" y=\"435.0\">Len: 8</text><text style=\"text-anchor: middle; dominant-baseline: hanging;\" x=\"90.0\" y=\"465.0\">Set ID: 261</text><text style=\"text-anchor: middle; dominant-baseline: hanging;\" x=\"270.0\" y=\"465.0\">Set Length: 49</text><text style=\"text-anchor: middle; dominant-baseline: hanging;\" x=\"180.0\" y=\"495.0\">flowStar...iseconds: 2012-10-22 09:29:07.170000</text><text style=\"text-anchor: middle; dominant-baseline: hanging;\" x=\"180.0\" y=\"540.0\">flowEndMilliseconds: 2012-10-22 09:29:33.915999</text><text style=\"text-anchor: middle; dominant-baseline: hanging;\" x=\"180.0\" y=\"585.0\">sourceIPv4Address: 192.0.2.11</text><text style=\"text-anchor: middle; dominant-baseline: hanging;\" x=\"180.0\" y=\"615.0\">destinat...4Address: 192.0.2.212</text><text style=\"text-anchor: middle; dominant-baseline: hanging;\" x=\"90.0\" y=\"645.0\">sourceTr...Port: 32798</text><text style=\"text-anchor: middle; dominant-baseline: hanging;\" x=\"270.0\" y=\"645.0\">destinat...Port: 80</text><text style=\"text-anchor: middle; dominant-baseline: hanging;\" x=\"45.0\" y=\"675.0\">prot...fier: 6</text><text style=\"text-anchor: middle; dominant-baseline: hanging;\" x=\"180.0\" y=\"720.0\">octetDeltaCount: 3329</text><text style=\"text-anchor: middle; dominant-baseline: hanging;\" x=\"180.0\" y=\"780.0\">packetDeltaCount: 17</text></g></defs><use x=\"90\" xlink:href=\"#ejxrmt9m3uni8efd\" y=\"0\"/><use x=\"0\" xlink:href=\"#97wb6q2990ddk8xe\" y=\"15.0\"/><use x=\"90\" xlink:href=\"#boxes-nablrl09mriftrz0\" y=\"15.0\"/><use x=\"90\" xlink:href=\"#text-nablrl09mriftrz0\" y=\"15.0\"/></svg>"
       ],
       "text": [
        "<IPython.core.display.SVG at 0x1068d6250>"
       ]
      }
     ],
     "prompt_number": 6
    },
    {
     "cell_type": "markdown",
     "metadata": {},
     "source": [
      "Templates are persistent within a session; subsequent messages can refer to templates sent in previous messages:"
     ]
    },
    {
     "cell_type": "code",
     "collapsed": false,
     "input": [
      "msg.begin_export(8304)\n",
      "msg.export_new_set(261)\n",
      "msg.export_namedict({ 'flowStartMilliseconds':    iso8601('2012-10-22 09:30:01.912000'),\n",
      "                      'flowEndMilliseconds':      iso8601('2012-10-22 09:31:15.009000'),\n",
      "                      'sourceIPv4Address':        ip_address('192.0.2.212'),\n",
      "                      'destinationIPv4Address':   ip_address('192.0.2.11'),\n",
      "                      'sourceTransportPort':      80,\n",
      "                      'destinationTransportPort': 32801,\n",
      "                      'protocolIdentifier':       6,\n",
      "                      'packetDeltaCount':         83,\n",
      "                      'octetDeltaCount':          97501})\n",
      "msg.export_namedict({ 'flowStartMilliseconds':    iso8601('2012-10-22 09:30:08.182000'),\n",
      "                      'flowEndMilliseconds':      iso8601('2012-10-22 09:31:16.012000'),\n",
      "                      'sourceIPv4Address':        ip_address('192.0.2.212'),\n",
      "                      'destinationIPv4Address':   ip_address('192.0.2.11'),\n",
      "                      'sourceTransportPort':      80,\n",
      "                      'destinationTransportPort': 32802,\n",
      "                      'protocolIdentifier':       6,\n",
      "                      'packetDeltaCount':         99,\n",
      "                      'octetDeltaCount':          136172})\n",
      "draw_message(msg)"
     ],
     "language": "python",
     "metadata": {},
     "outputs": [
      {
       "output_type": "pyout",
       "prompt_number": 10,
       "svg": [
        "<svg baseProfile=\"full\" height=\"900\" version=\"1.1\" width=\"450\" xmlns=\"http://www.w3.org/2000/svg\" xmlns:ev=\"http://www.w3.org/2001/xml-events\" xmlns:xlink=\"http://www.w3.org/1999/xlink\"><defs><g font-size=\"17\" id=\"hnfpdh1km34mgl7m\"><text style=\"text-anchor: right; dominant-baseline: hanging;\" x=\"72.0\" y=\"0\">0</text><text style=\"text-anchor: right; dominant-baseline: hanging;\" x=\"162.0\" y=\"0\">1</text><text style=\"text-anchor: right; dominant-baseline: hanging;\" x=\"252.0\" y=\"0\">2</text><text style=\"text-anchor: right; dominant-baseline: hanging;\" x=\"342.0\" y=\"0\">3</text></g><g font-size=\"17\" id=\"x86uqnek4yzme0ez\"><text style=\"text-anchor: left; dominant-baseline: hanging;\" x=\"0\" y=\"0\">0x0</text><text style=\"text-anchor: left; dominant-baseline: hanging;\" x=\"0\" y=\"30\">0x4</text><text style=\"text-anchor: left; dominant-baseline: hanging;\" x=\"0\" y=\"60\">0x8</text><text style=\"text-anchor: left; dominant-baseline: hanging;\" x=\"0\" y=\"90\">0xc</text><text style=\"text-anchor: left; dominant-baseline: hanging;\" x=\"0\" y=\"120\">0x10</text><text style=\"text-anchor: left; dominant-baseline: hanging;\" x=\"0\" y=\"150\">0x14</text><text style=\"text-anchor: left; dominant-baseline: hanging;\" x=\"0\" y=\"180\">0x18</text><text style=\"text-anchor: left; dominant-baseline: hanging;\" x=\"0\" y=\"210\">0x1c</text><text style=\"text-anchor: left; dominant-baseline: hanging;\" x=\"0\" y=\"240\">0x20</text><text style=\"text-anchor: left; dominant-baseline: hanging;\" x=\"0\" y=\"270\">0x24</text><text style=\"text-anchor: left; dominant-baseline: hanging;\" x=\"0\" y=\"300\">0x28</text><text style=\"text-anchor: left; dominant-baseline: hanging;\" x=\"0\" y=\"330\">0x2c</text><text style=\"text-anchor: left; dominant-baseline: hanging;\" x=\"0\" y=\"360\">0x2d</text><text style=\"text-anchor: left; dominant-baseline: hanging;\" x=\"0\" y=\"390\">0x31</text><text style=\"text-anchor: left; dominant-baseline: hanging;\" x=\"0\" y=\"420\">0x35</text><text style=\"text-anchor: left; dominant-baseline: hanging;\" x=\"0\" y=\"450\">0x39</text><text style=\"text-anchor: left; dominant-baseline: hanging;\" x=\"0\" y=\"480\">0x3d</text><text style=\"text-anchor: left; dominant-baseline: hanging;\" x=\"0\" y=\"510\">0x41</text><text style=\"text-anchor: left; dominant-baseline: hanging;\" x=\"0\" y=\"540\">0x45</text><text style=\"text-anchor: left; dominant-baseline: hanging;\" x=\"0\" y=\"570\">0x49</text><text style=\"text-anchor: left; dominant-baseline: hanging;\" x=\"0\" y=\"600\">0x4d</text><text style=\"text-anchor: left; dominant-baseline: hanging;\" x=\"0\" y=\"630\">0x51</text><text style=\"text-anchor: left; dominant-baseline: hanging;\" x=\"0\" y=\"660\">0x55</text><text style=\"text-anchor: left; dominant-baseline: hanging;\" x=\"0\" y=\"690\">0x59</text><text style=\"text-anchor: left; dominant-baseline: hanging;\" x=\"0\" y=\"720\">0x5a</text><text style=\"text-anchor: left; dominant-baseline: hanging;\" x=\"0\" y=\"750\">0x5e</text><text style=\"text-anchor: left; dominant-baseline: hanging;\" x=\"0\" y=\"780\">0x62</text><text style=\"text-anchor: left; dominant-baseline: hanging;\" x=\"0\" y=\"810\">0x66</text><text style=\"text-anchor: left; dominant-baseline: hanging;\" x=\"0\" y=\"840\">0x6a</text></g><g id=\"boxes-285xebt1ppdq95ys\" stroke=\"black\" stroke-width=\"2\"><rect fill=\"rgb(255,216,216)\" height=\"30\" width=\"180\" x=\"0\" y=\"0\"/><rect fill=\"rgb(255,216,216)\" height=\"30\" width=\"180\" x=\"180\" y=\"0\"/><rect fill=\"rgb(255,216,216)\" height=\"30\" width=\"360\" x=\"0\" y=\"30\"/><rect fill=\"rgb(255,216,216)\" height=\"30\" width=\"360\" x=\"0\" y=\"60\"/><rect fill=\"rgb(255,216,216)\" height=\"30\" width=\"360\" x=\"0\" y=\"90\"/><rect fill=\"rgb(240,192,216)\" height=\"30\" width=\"180\" x=\"0\" y=\"120\"/><rect fill=\"rgb(240,192,216)\" height=\"30\" width=\"180\" x=\"180\" y=\"120\"/><polyline fill=\"rgb(255,255,216)\" points=\"360,120 360,120 360,180 0,180 0,150 360,150 360,120\"/><rect fill=\"rgb(255,255,216)\" height=\"60.0\" width=\"360\" x=\"0\" y=\"180\"/><rect fill=\"rgb(255,255,216)\" height=\"30\" width=\"360\" x=\"0\" y=\"240\"/><rect fill=\"rgb(255,255,216)\" height=\"30\" width=\"360\" x=\"0\" y=\"270\"/><rect fill=\"rgb(255,255,216)\" height=\"30\" width=\"180\" x=\"0\" y=\"300\"/><rect fill=\"rgb(255,255,216)\" height=\"30\" width=\"180\" x=\"180\" y=\"300\"/><rect fill=\"rgb(255,255,216)\" height=\"30\" width=\"90\" x=\"0\" y=\"330\"/><rect fill=\"rgb(255,255,216)\" height=\"60.0\" width=\"360\" x=\"0\" y=\"360\"/><rect fill=\"rgb(255,255,216)\" height=\"60.0\" width=\"360\" x=\"0\" y=\"420\"/><rect fill=\"rgb(216,255,216)\" height=\"60.0\" width=\"360\" x=\"0\" y=\"480\"/><rect fill=\"rgb(216,255,216)\" height=\"60.0\" width=\"360\" x=\"0\" y=\"540\"/><rect fill=\"rgb(216,255,216)\" height=\"30\" width=\"360\" x=\"0\" y=\"600\"/><rect fill=\"rgb(216,255,216)\" height=\"30\" width=\"360\" x=\"0\" y=\"630\"/><rect fill=\"rgb(216,255,216)\" height=\"30\" width=\"180\" x=\"0\" y=\"660\"/><rect fill=\"rgb(216,255,216)\" height=\"30\" width=\"180\" x=\"180\" y=\"660\"/><rect fill=\"rgb(216,255,216)\" height=\"30\" width=\"90\" x=\"0\" y=\"690\"/><rect fill=\"rgb(216,255,216)\" height=\"60.0\" width=\"360\" x=\"0\" y=\"720\"/><rect fill=\"rgb(216,255,216)\" height=\"60.0\" width=\"360\" x=\"0\" y=\"780\"/></g><g font-size=\"15\" id=\"text-285xebt1ppdq95ys\"><text style=\"text-anchor: middle; dominant-baseline: hanging;\" x=\"90.0\" y=\"15.0\">Version: 10</text><text style=\"text-anchor: middle; dominant-baseline: hanging;\" x=\"270.0\" y=\"15.0\">Length: 110</text><text style=\"text-anchor: middle; dominant-baseline: hanging;\" x=\"180.0\" y=\"45.0\">Sequence: 4</text><text style=\"text-anchor: middle; dominant-baseline: hanging;\" x=\"180.0\" y=\"75.0\">Export Time: 2013-07-05 09:33:45</text><text style=\"text-anchor: middle; dominant-baseline: hanging;\" x=\"180.0\" y=\"105.0\">Observation Domain: 8304</text><text style=\"text-anchor: middle; dominant-baseline: hanging;\" x=\"90.0\" y=\"135.0\">Set ID: 261</text><text style=\"text-anchor: middle; dominant-baseline: hanging;\" x=\"270.0\" y=\"135.0\">Set Length: 94</text><text style=\"text-anchor: middle; dominant-baseline: hanging;\" x=\"180.0\" y=\"165.0\">flowStar...iseconds: 2012-10-22 09:30:01.911999</text><text style=\"text-anchor: middle; dominant-baseline: hanging;\" x=\"180.0\" y=\"210.0\">flowEndMilliseconds: 2012-10-22 09:31:15.009000</text><text style=\"text-anchor: middle; dominant-baseline: hanging;\" x=\"180.0\" y=\"255.0\">sourceIPv4Address: 192.0.2.212</text><text style=\"text-anchor: middle; dominant-baseline: hanging;\" x=\"180.0\" y=\"285.0\">destinat...4Address: 192.0.2.11</text><text style=\"text-anchor: middle; dominant-baseline: hanging;\" x=\"90.0\" y=\"315.0\">sourceTr...Port: 80</text><text style=\"text-anchor: middle; dominant-baseline: hanging;\" x=\"270.0\" y=\"315.0\">destinat...Port: 32801</text><text style=\"text-anchor: middle; dominant-baseline: hanging;\" x=\"45.0\" y=\"345.0\">prot...fier: 6</text><text style=\"text-anchor: middle; dominant-baseline: hanging;\" x=\"180.0\" y=\"390.0\">octetDeltaCount: 97501</text><text style=\"text-anchor: middle; dominant-baseline: hanging;\" x=\"180.0\" y=\"450.0\">packetDeltaCount: 83</text><text style=\"text-anchor: middle; dominant-baseline: hanging;\" x=\"180.0\" y=\"510.0\">flowStar...iseconds: 2012-10-22 09:30:08.181999</text><text style=\"text-anchor: middle; dominant-baseline: hanging;\" x=\"180.0\" y=\"570.0\">flowEndMilliseconds: 2012-10-22 09:31:16.012000</text><text style=\"text-anchor: middle; dominant-baseline: hanging;\" x=\"180.0\" y=\"615.0\">sourceIPv4Address: 192.0.2.212</text><text style=\"text-anchor: middle; dominant-baseline: hanging;\" x=\"180.0\" y=\"645.0\">destinat...4Address: 192.0.2.11</text><text style=\"text-anchor: middle; dominant-baseline: hanging;\" x=\"90.0\" y=\"675.0\">sourceTr...Port: 80</text><text style=\"text-anchor: middle; dominant-baseline: hanging;\" x=\"270.0\" y=\"675.0\">destinat...Port: 32802</text><text style=\"text-anchor: middle; dominant-baseline: hanging;\" x=\"45.0\" y=\"705.0\">prot...fier: 6</text><text style=\"text-anchor: middle; dominant-baseline: hanging;\" x=\"180.0\" y=\"750.0\">octetDeltaCount: 136172</text><text style=\"text-anchor: middle; dominant-baseline: hanging;\" x=\"180.0\" y=\"810.0\">packetDeltaCount: 99</text></g></defs><use x=\"90\" xlink:href=\"#hnfpdh1km34mgl7m\" y=\"0\"/><use x=\"0\" xlink:href=\"#x86uqnek4yzme0ez\" y=\"15.0\"/><use x=\"90\" xlink:href=\"#boxes-285xebt1ppdq95ys\" y=\"15.0\"/><use x=\"90\" xlink:href=\"#text-285xebt1ppdq95ys\" y=\"15.0\"/></svg>"
       ],
       "text": [
        "<IPython.core.display.SVG at 0x106b06410>"
       ]
      }
     ],
     "prompt_number": 10
    },
    {
     "cell_type": "code",
     "collapsed": false,
     "input": [],
     "language": "python",
     "metadata": {},
     "outputs": []
    }
   ],
   "metadata": {}
  }
 ]
}